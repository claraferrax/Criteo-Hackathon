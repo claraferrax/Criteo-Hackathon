{
 "cells": [
  {
   "cell_type": "markdown",
   "metadata": {},
   "source": [
    "# Weighted Score Notebook\n",
    "\n",
    "This notebook computes similarities between brand names using the final weighted metric implemented in `similarities.py`. The process involves:\n",
    "\n",
    "- **Computing Similarity:**  \n",
    "  The final metric is applied to compare brand names and generate similarity scores.\n",
    "\n",
    "- **Threshold Filtering:**  \n",
    "  Only brand pairs with similarity scores above a specified threshold are considered.\n",
    "\n",
    "- **Grouping:**  \n",
    "  Brands with high similarity are grouped together, consolidating variations of the same brand into unified clusters.\n",
    "\n",
    "- **Output:**  \n",
    "  Creates an output in the same format as the reference one provided by Criteo"
   ]
  },
  {
   "cell_type": "code",
   "execution_count": 13,
   "metadata": {},
   "outputs": [],
   "source": [
    "import pandas as pd\n",
    "pd.set_option(\"display.max_rows\", None)\n",
    "import unicodedata\n",
    "import gzip\n",
    "import json\n",
    "from similarities import filter_brands, weighted_score\n"
   ]
  },
  {
   "cell_type": "code",
   "execution_count": 14,
   "metadata": {},
   "outputs": [
    {
     "data": {
      "text/html": [
       "<div>\n",
       "<style scoped>\n",
       "    .dataframe tbody tr th:only-of-type {\n",
       "        vertical-align: middle;\n",
       "    }\n",
       "\n",
       "    .dataframe tbody tr th {\n",
       "        vertical-align: top;\n",
       "    }\n",
       "\n",
       "    .dataframe thead th {\n",
       "        text-align: right;\n",
       "    }\n",
       "</style>\n",
       "<table border=\"1\" class=\"dataframe\">\n",
       "  <thead>\n",
       "    <tr style=\"text-align: right;\">\n",
       "      <th></th>\n",
       "      <th>row_id</th>\n",
       "      <th>brand_name</th>\n",
       "      <th>language_code</th>\n",
       "      <th>google_category_id</th>\n",
       "      <th>row_weight</th>\n",
       "      <th>clean_brand_name</th>\n",
       "      <th>category_level_1</th>\n",
       "      <th>category_level_2</th>\n",
       "      <th>category_level_3</th>\n",
       "      <th>category_level_4</th>\n",
       "      <th>category_level_5</th>\n",
       "      <th>category_level_6</th>\n",
       "      <th>category_level_7</th>\n",
       "    </tr>\n",
       "  </thead>\n",
       "  <tbody>\n",
       "    <tr>\n",
       "      <th>0</th>\n",
       "      <td>0</td>\n",
       "      <td>NaN</td>\n",
       "      <td>en</td>\n",
       "      <td>691</td>\n",
       "      <td>0.505044</td>\n",
       "      <td>-1</td>\n",
       "      <td>Home &amp; Garden</td>\n",
       "      <td>Lawn &amp; Garden</td>\n",
       "      <td>Gardening</td>\n",
       "      <td>Disease Control</td>\n",
       "      <td>NaN</td>\n",
       "      <td>NaN</td>\n",
       "      <td>NaN</td>\n",
       "    </tr>\n",
       "    <tr>\n",
       "      <th>1</th>\n",
       "      <td>1</td>\n",
       "      <td>NaN</td>\n",
       "      <td>ja</td>\n",
       "      <td>325</td>\n",
       "      <td>0.632272</td>\n",
       "      <td>-1</td>\n",
       "      <td>Electronics</td>\n",
       "      <td>Computers</td>\n",
       "      <td>Desktop Computers</td>\n",
       "      <td>NaN</td>\n",
       "      <td>NaN</td>\n",
       "      <td>NaN</td>\n",
       "      <td>NaN</td>\n",
       "    </tr>\n",
       "    <tr>\n",
       "      <th>2</th>\n",
       "      <td>2</td>\n",
       "      <td>NaN</td>\n",
       "      <td>nl</td>\n",
       "      <td>176</td>\n",
       "      <td>0.492944</td>\n",
       "      <td>-1</td>\n",
       "      <td>Apparel &amp; Accessories</td>\n",
       "      <td>Clothing Accessories</td>\n",
       "      <td>Neckties</td>\n",
       "      <td>NaN</td>\n",
       "      <td>NaN</td>\n",
       "      <td>NaN</td>\n",
       "      <td>NaN</td>\n",
       "    </tr>\n",
       "    <tr>\n",
       "      <th>3</th>\n",
       "      <td>3</td>\n",
       "      <td>NaN</td>\n",
       "      <td>pt</td>\n",
       "      <td>1033</td>\n",
       "      <td>0.582456</td>\n",
       "      <td>-1</td>\n",
       "      <td>Sporting Goods</td>\n",
       "      <td>Outdoor Recreation</td>\n",
       "      <td>Hunting &amp; Shooting</td>\n",
       "      <td>Archery</td>\n",
       "      <td>NaN</td>\n",
       "      <td>NaN</td>\n",
       "      <td>NaN</td>\n",
       "    </tr>\n",
       "    <tr>\n",
       "      <th>4</th>\n",
       "      <td>4</td>\n",
       "      <td>100%</td>\n",
       "      <td>de</td>\n",
       "      <td>499845</td>\n",
       "      <td>0.355131</td>\n",
       "      <td>100</td>\n",
       "      <td>Sporting Goods</td>\n",
       "      <td>Outdoor Recreation</td>\n",
       "      <td>Winter Sports &amp; Activities</td>\n",
       "      <td>Skiing &amp; Snowboarding</td>\n",
       "      <td>NaN</td>\n",
       "      <td>NaN</td>\n",
       "      <td>NaN</td>\n",
       "    </tr>\n",
       "  </tbody>\n",
       "</table>\n",
       "</div>"
      ],
      "text/plain": [
       "   row_id brand_name language_code  google_category_id  row_weight  \\\n",
       "0       0        NaN            en                 691    0.505044   \n",
       "1       1        NaN            ja                 325    0.632272   \n",
       "2       2        NaN            nl                 176    0.492944   \n",
       "3       3        NaN            pt                1033    0.582456   \n",
       "4       4       100%            de              499845    0.355131   \n",
       "\n",
       "  clean_brand_name       category_level_1      category_level_2  \\\n",
       "0               -1          Home & Garden         Lawn & Garden   \n",
       "1               -1            Electronics             Computers   \n",
       "2               -1  Apparel & Accessories  Clothing Accessories   \n",
       "3               -1         Sporting Goods    Outdoor Recreation   \n",
       "4              100         Sporting Goods    Outdoor Recreation   \n",
       "\n",
       "             category_level_3       category_level_4  category_level_5  \\\n",
       "0                   Gardening        Disease Control               NaN   \n",
       "1           Desktop Computers                    NaN               NaN   \n",
       "2                    Neckties                    NaN               NaN   \n",
       "3          Hunting & Shooting                Archery               NaN   \n",
       "4  Winter Sports & Activities  Skiing & Snowboarding               NaN   \n",
       "\n",
       "   category_level_6  category_level_7  \n",
       "0               NaN               NaN  \n",
       "1               NaN               NaN  \n",
       "2               NaN               NaN  \n",
       "3               NaN               NaN  \n",
       "4               NaN               NaN  "
      ]
     },
     "execution_count": 14,
     "metadata": {},
     "output_type": "execute_result"
    }
   ],
   "source": [
    "df = pd.read_csv(\"df_fully_cleaned.csv\")\n",
    "df_software = df[df['category_level_1']=='Software']\n",
    "df.head(5)"
   ]
  },
  {
   "cell_type": "code",
   "execution_count": 15,
   "metadata": {},
   "outputs": [],
   "source": [
    "df = df.sample(frac=0.2, random_state=1) "
   ]
  },
  {
   "cell_type": "code",
   "execution_count": 16,
   "metadata": {},
   "outputs": [
    {
     "data": {
      "text/plain": [
       "(12582, 13)"
      ]
     },
     "execution_count": 16,
     "metadata": {},
     "output_type": "execute_result"
    }
   ],
   "source": [
    "df.shape"
   ]
  },
  {
   "cell_type": "code",
   "execution_count": 17,
   "metadata": {},
   "outputs": [
    {
     "data": {
      "text/plain": [
       "6186"
      ]
     },
     "execution_count": 17,
     "metadata": {},
     "output_type": "execute_result"
    }
   ],
   "source": [
    "df['brand_name'].nunique()"
   ]
  },
  {
   "cell_type": "code",
   "execution_count": 18,
   "metadata": {},
   "outputs": [
    {
     "name": "stdout",
     "output_type": "stream",
     "text": [
      "Brand pairs with Weighted score above threshold:\n",
      "nike and nike swim: 66%\n",
      "rick owens and rick owens kids: 75%\n",
      "calvin klein and calvin klein jeans: 75%\n",
      "calvin klein and calvin klein performance: 75%\n",
      "gucci and gucci eyewear: 66%\n",
      "gucci and gucci kids: 66%\n",
      "offwhite and offwhite kids: 66%\n",
      "goya and stine goya: 66%\n",
      "disney and disney princess: 66%\n",
      "versace and versace kids: 66%\n",
      "versace and versace jeans: 66%\n",
      "armani jeans and armani: 66%\n",
      "balenciaga and balenciaga kids: 66%\n",
      "dkny and dkny sport: 66%\n",
      "ralph lauren collection and ralph lauren: 75%\n",
      "ralph lauren collection and lauren ralph lauren: 75%\n",
      "karl lagerfeld and karl lagerfeld kids: 75%\n",
      "marc jacobs and marc jacobs kids: 75%\n",
      "stella mccartney kids and stella mccartney: 75%\n",
      "michael kors and michael kors collection: 75%\n",
      "michael kors and michael michael kors: 100%\n",
      "missoni and missoni home: 66%\n",
      "missoni and m missoni: 66%\n",
      "missoni and missoni mare: 66%\n",
      "agua bendita and agua by agua bendita: 75%\n",
      "joseph joseph and joseph: 100%\n",
      "fendi and fendi kids: 66%\n",
      "canada goose kids and canada goose: 66%\n",
      "moschino and love moschino: 66%\n",
      "moschino and moschino kids: 66%\n",
      "moschino and moschino jeans: 66%\n",
      "ralph lauren and polo ralph lauren: 75%\n",
      "ralph lauren and lauren ralph lauren: 100%\n",
      "pieces and filling pieces: 66%\n",
      "balmain and balmain kids: 66%\n",
      "philips and philips hue: 66%\n",
      "max mara and weekend max mara: 66%\n",
      "victoria beckham and victoria victoria beckham: 100%\n",
      "christian dior and dior: 66%\n",
      "valentino and red valentino: 66%\n",
      "seiko and grand seiko: 66%\n",
      "paco rabanne and rabanne: 66%\n",
      "moncler and moncler genius: 66%\n",
      "marant etoile and isabel marant etoile: 80%\n",
      "givenchy and givenchy kids: 66%\n",
      "fanatics authentic and fanatics: 66%\n",
      "cp company and cp company kids: 75%\n",
      "meyer and jennifer meyer: 66%\n",
      "kenzo and kenzo kids: 66%\n",
      "kurt s adler and kurt adler: 75%\n",
      "mm6 maison margiela and maison margiela: 66%\n",
      "mm6 maison margiela and mm6 maison margiela kids: 85%\n",
      "trussardi and trussardi junior: 66%\n",
      "cle de peau and cle de peau beaute: 71%\n",
      "palm angels and palm angels kids: 75%\n",
      "michael kors collection and michael michael kors: 75%\n",
      "simkhai and jonathan simkhai: 66%\n",
      "google and google nest: 66%\n",
      "national geographic and national geographic kids: 66%\n",
      "comme des garcons and comme des garcons shirt: 85%\n",
      "comme des garcons and comme des garcons homme: 75%\n",
      "schwarzkopf and schwarzkopf professional: 66%\n",
      "brunello cucinelli and brunello cucinelli kids: 80%\n",
      "kingston and kingston brass: 66%\n",
      "charo ruiz ibiza and charo ruiz: 66%\n",
      "armani exchange and armani: 66%\n",
      "new balance and new balance kids: 66%\n",
      "nintendo and nintendo switch: 66%\n",
      "tom dixon and dixon: 66%\n",
      "emporio armani and emporio armani kids: 80%\n",
      "gingpai sport and gingpai: 66%\n",
      "z zegna and zegna: 66%\n",
      "ls and ls auto: 66%\n",
      "louise misha and misha: 66%\n",
      "polo ralph lauren and lauren ralph lauren: 75%\n",
      "polo ralph lauren and polo ralph lauren kids: 80%\n",
      "retro brand and original retro brand: 75%\n",
      "comme des garcons shirt and comme des garcons homme: 66%\n",
      "barbour and barbour international: 66%\n",
      "gates and cardinal gates: 66%\n",
      "gates and laurie gates: 66%\n",
      "drkshdw by rick owens and rick owens drkshdw: 83%\n",
      "mga and mga entertainment: 66%\n",
      "hillsdale furniture and hillsdale: 66%\n",
      "proenza schouler and proenza schouler white label: 66%\n",
      "jean patou and patou: 66%\n",
      "mugler and thierry mugler: 66%\n",
      "panini america and panini: 66%\n",
      "clergerie and robert clergerie: 66%\n",
      "perfect moment kids and perfect moment: 66%\n",
      "leonor greyl and leonor greyl paris: 80%\n",
      "47 and 47 brand: 66%\n"
     ]
    }
   ],
   "source": [
    "\n",
    "filtered_brands_custom = filter_brands(\n",
    "    df,\n",
    "    'clean_brand_name',\n",
    "    threshold=65,  \n",
    "    score_func=weighted_score,  \n",
    "    brand_weight=2.0,  \n",
    "    common_weight=1.0\n",
    ")\n",
    "\n",
    "print(\"Brand pairs with Weighted score above threshold:\")\n",
    "for b1, b2, score in filtered_brands_custom:\n",
    "    print(f\"{b1} and {b2}: {score}%\")\n"
   ]
  },
  {
   "cell_type": "code",
   "execution_count": 19,
   "metadata": {},
   "outputs": [
    {
     "name": "stdout",
     "output_type": "stream",
     "text": [
      "{'nike': ['nike', 'nike swim'], 'rick owens': ['rick owens', 'rick owens kids'], 'calvin klein': ['calvin klein', 'calvin klein jeans', 'calvin klein performance'], 'gucci': ['gucci', 'gucci kids', 'gucci eyewear'], 'offwhite': ['offwhite', 'offwhite kids'], 'goya': ['goya', 'stine goya'], 'disney': ['disney', 'disney princess'], 'versace': ['versace', 'versace jeans', 'versace kids'], 'armani': ['armani jeans', 'armani', 'armani exchange'], 'balenciaga': ['balenciaga', 'balenciaga kids'], 'dkny': ['dkny', 'dkny sport'], 'ralph lauren': ['ralph lauren collection', 'ralph lauren', 'polo ralph lauren', 'polo ralph lauren kids', 'lauren ralph lauren'], 'karl lagerfeld': ['karl lagerfeld', 'karl lagerfeld kids'], 'marc jacobs': ['marc jacobs', 'marc jacobs kids'], 'stella mccartney': ['stella mccartney kids', 'stella mccartney'], 'michael kors': ['michael kors', 'michael kors collection', 'michael michael kors'], 'missoni': ['missoni', 'missoni mare', 'missoni home', 'm missoni'], 'agua bendita': ['agua bendita', 'agua by agua bendita'], 'joseph joseph': ['joseph joseph', 'joseph'], 'fendi': ['fendi', 'fendi kids'], 'canada goose': ['canada goose kids', 'canada goose'], 'moschino': ['moschino', 'moschino kids', 'moschino jeans', 'love moschino'], 'pieces': ['pieces', 'filling pieces'], 'balmain': ['balmain', 'balmain kids'], 'philips': ['philips', 'philips hue'], 'max mara': ['max mara', 'weekend max mara'], 'victoria beckham': ['victoria beckham', 'victoria victoria beckham'], 'dior': ['christian dior', 'dior'], 'valentino': ['valentino', 'red valentino'], 'seiko': ['seiko', 'grand seiko'], 'rabanne': ['paco rabanne', 'rabanne'], 'moncler': ['moncler', 'moncler genius'], 'marant etoile': ['marant etoile', 'isabel marant etoile'], 'givenchy': ['givenchy', 'givenchy kids'], 'fanatics': ['fanatics authentic', 'fanatics'], 'cp company': ['cp company', 'cp company kids'], 'meyer': ['meyer', 'jennifer meyer'], 'kenzo': ['kenzo', 'kenzo kids'], 'kurt adler': ['kurt s adler', 'kurt adler'], 'maison margiela': ['mm6 maison margiela', 'maison margiela', 'mm6 maison margiela kids'], 'trussardi': ['trussardi', 'trussardi junior'], 'cle de peau': ['cle de peau', 'cle de peau beaute'], 'palm angels': ['palm angels', 'palm angels kids'], 'simkhai': ['simkhai', 'jonathan simkhai'], 'google': ['google', 'google nest'], 'national geographic': ['national geographic', 'national geographic kids'], 'comme des garcons': ['comme des garcons', 'comme des garcons shirt', 'comme des garcons homme'], 'schwarzkopf': ['schwarzkopf', 'schwarzkopf professional'], 'brunello cucinelli': ['brunello cucinelli', 'brunello cucinelli kids'], 'kingston': ['kingston', 'kingston brass'], 'charo ruiz': ['charo ruiz ibiza', 'charo ruiz'], 'new balance': ['new balance', 'new balance kids'], 'nintendo': ['nintendo', 'nintendo switch'], 'dixon': ['tom dixon', 'dixon'], 'emporio armani': ['emporio armani', 'emporio armani kids'], 'gingpai': ['gingpai sport', 'gingpai'], 'zegna': ['z zegna', 'zegna'], 'ls': ['ls', 'ls auto'], 'misha': ['louise misha', 'misha'], 'retro brand': ['retro brand', 'original retro brand'], 'barbour': ['barbour', 'barbour international'], 'gates': ['gates', 'cardinal gates', 'laurie gates'], 'drkshdw rick owens': ['drkshdw by rick owens', 'rick owens drkshdw'], 'mga': ['mga', 'mga entertainment'], 'hillsdale': ['hillsdale furniture', 'hillsdale'], 'proenza schouler': ['proenza schouler', 'proenza schouler white label'], 'patou': ['jean patou', 'patou'], 'mugler': ['mugler', 'thierry mugler'], 'panini': ['panini america', 'panini'], 'clergerie': ['clergerie', 'robert clergerie'], 'perfect moment': ['perfect moment kids', 'perfect moment'], 'leonor greyl': ['leonor greyl', 'leonor greyl paris'], '47': ['47', '47 brand']}\n"
     ]
    }
   ],
   "source": [
    "def group_brands_by_common_words(filtered_brands):\n",
    "    \"\"\"\n",
    "    Groups brands into clusters based on similarity and assigns a key based on common words,\n",
    "    preserving their order from the first brand in the cluster.\n",
    "\n",
    "    Parameters:\n",
    "      filtered_brands: List of tuples (brand1, brand2, score) from filter_brands function.\n",
    "\n",
    "    Returns:\n",
    "      A dictionary where:\n",
    "        - Keys are the common words among brands in a cluster, preserving their order.\n",
    "        - Values are lists of brands that share those common words.\n",
    "    \"\"\"\n",
    "    from collections import defaultdict\n",
    "\n",
    "    brand_graph = defaultdict(set)\n",
    "\n",
    "    # Build a similarity graph\n",
    "    for brand1, brand2, _ in filtered_brands:\n",
    "        brand_graph[brand1].add(brand2)\n",
    "        brand_graph[brand2].add(brand1)\n",
    "\n",
    "    # Perform connected components clustering\n",
    "    visited = set()\n",
    "    clusters = []\n",
    "\n",
    "    def dfs(brand, cluster):\n",
    "        \"\"\"Depth-first search to find all connected brands.\"\"\"\n",
    "        if brand in visited:\n",
    "            return\n",
    "        visited.add(brand)\n",
    "        cluster.append(brand)\n",
    "        for neighbor in brand_graph[brand]:\n",
    "            dfs(neighbor, cluster)\n",
    "\n",
    "    for brand in brand_graph:\n",
    "        if brand not in visited:\n",
    "            cluster = []\n",
    "            dfs(brand, cluster)\n",
    "            clusters.append(cluster)\n",
    "\n",
    "    # Convert clusters into a dictionary with common words as keys, preserving order\n",
    "    clustered_dict = {}\n",
    "\n",
    "    for cluster in clusters:\n",
    "        if not cluster:\n",
    "            continue\n",
    "\n",
    "        # Tokenize the first brand while maintaining word order\n",
    "        first_brand_words = cluster[0].split()\n",
    "\n",
    "        # Find common words while keeping the original order\n",
    "        for brand in cluster[1:]:\n",
    "            brand_words = set(brand.split())  # Use a set for quick lookup\n",
    "            first_brand_words = [word for word in first_brand_words if word in brand_words]\n",
    "\n",
    "        # Create the key as a string of common words in order\n",
    "        key = \" \".join(first_brand_words) if first_brand_words else cluster[0]\n",
    "\n",
    "        clustered_dict[key] = cluster\n",
    "\n",
    "    return clustered_dict\n",
    "\n",
    "\n",
    "brand_clusters_dict = group_brands_by_common_words(filtered_brands_custom)\n",
    "print(brand_clusters_dict)\n"
   ]
  },
  {
   "cell_type": "code",
   "execution_count": 20,
   "metadata": {},
   "outputs": [
    {
     "name": "stdout",
     "output_type": "stream",
     "text": [
      "                Key                                                                                                Values\n",
      "               nike                                                                                       nike, nike swim\n",
      "         rick owens                                                                           rick owens, rick owens kids\n",
      "       calvin klein                                            calvin klein, calvin klein jeans, calvin klein performance\n",
      "              gucci                                                                      gucci, gucci kids, gucci eyewear\n",
      "           offwhite                                                                               offwhite, offwhite kids\n",
      "               goya                                                                                      goya, stine goya\n",
      "             disney                                                                               disney, disney princess\n",
      "            versace                                                                  versace, versace jeans, versace kids\n",
      "             armani                                                                 armani jeans, armani, armani exchange\n",
      "         balenciaga                                                                           balenciaga, balenciaga kids\n",
      "               dkny                                                                                      dkny, dkny sport\n",
      "       ralph lauren ralph lauren collection, ralph lauren, polo ralph lauren, polo ralph lauren kids, lauren ralph lauren\n",
      "     karl lagerfeld                                                                   karl lagerfeld, karl lagerfeld kids\n",
      "        marc jacobs                                                                         marc jacobs, marc jacobs kids\n",
      "   stella mccartney                                                               stella mccartney kids, stella mccartney\n",
      "       michael kors                                           michael kors, michael kors collection, michael michael kors\n",
      "            missoni                                                        missoni, missoni mare, missoni home, m missoni\n",
      "       agua bendita                                                                    agua bendita, agua by agua bendita\n",
      "      joseph joseph                                                                                 joseph joseph, joseph\n",
      "              fendi                                                                                     fendi, fendi kids\n",
      "       canada goose                                                                       canada goose kids, canada goose\n",
      "           moschino                                                moschino, moschino kids, moschino jeans, love moschino\n",
      "             pieces                                                                                pieces, filling pieces\n",
      "            balmain                                                                                 balmain, balmain kids\n",
      "            philips                                                                                  philips, philips hue\n",
      "           max mara                                                                            max mara, weekend max mara\n",
      "   victoria beckham                                                           victoria beckham, victoria victoria beckham\n",
      "               dior                                                                                  christian dior, dior\n",
      "          valentino                                                                              valentino, red valentino\n",
      "              seiko                                                                                    seiko, grand seiko\n",
      "            rabanne                                                                                 paco rabanne, rabanne\n",
      "            moncler                                                                               moncler, moncler genius\n",
      "      marant etoile                                                                   marant etoile, isabel marant etoile\n",
      "           givenchy                                                                               givenchy, givenchy kids\n",
      "           fanatics                                                                          fanatics authentic, fanatics\n",
      "         cp company                                                                           cp company, cp company kids\n",
      "              meyer                                                                                 meyer, jennifer meyer\n",
      "              kenzo                                                                                     kenzo, kenzo kids\n",
      "         kurt adler                                                                              kurt s adler, kurt adler\n",
      "    maison margiela                                        mm6 maison margiela, maison margiela, mm6 maison margiela kids\n",
      "          trussardi                                                                           trussardi, trussardi junior\n",
      "        cle de peau                                                                       cle de peau, cle de peau beaute\n",
      "        palm angels                                                                         palm angels, palm angels kids\n",
      "            simkhai                                                                             simkhai, jonathan simkhai\n",
      "             google                                                                                   google, google nest\n",
      "national geographic                                                         national geographic, national geographic kids\n",
      "  comme des garcons                                   comme des garcons, comme des garcons shirt, comme des garcons homme\n",
      "        schwarzkopf                                                                 schwarzkopf, schwarzkopf professional\n",
      " brunello cucinelli                                                           brunello cucinelli, brunello cucinelli kids\n",
      "           kingston                                                                              kingston, kingston brass\n",
      "         charo ruiz                                                                          charo ruiz ibiza, charo ruiz\n",
      "        new balance                                                                         new balance, new balance kids\n",
      "           nintendo                                                                             nintendo, nintendo switch\n",
      "              dixon                                                                                      tom dixon, dixon\n",
      "     emporio armani                                                                   emporio armani, emporio armani kids\n",
      "            gingpai                                                                                gingpai sport, gingpai\n",
      "              zegna                                                                                        z zegna, zegna\n",
      "                 ls                                                                                           ls, ls auto\n",
      "              misha                                                                                   louise misha, misha\n",
      "        retro brand                                                                     retro brand, original retro brand\n",
      "            barbour                                                                        barbour, barbour international\n",
      "              gates                                                                   gates, cardinal gates, laurie gates\n",
      " drkshdw rick owens                                                             drkshdw by rick owens, rick owens drkshdw\n",
      "                mga                                                                                mga, mga entertainment\n",
      "          hillsdale                                                                        hillsdale furniture, hillsdale\n",
      "   proenza schouler                                                        proenza schouler, proenza schouler white label\n",
      "              patou                                                                                     jean patou, patou\n",
      "             mugler                                                                                mugler, thierry mugler\n",
      "             panini                                                                                panini america, panini\n",
      "          clergerie                                                                           clergerie, robert clergerie\n",
      "     perfect moment                                                                   perfect moment kids, perfect moment\n",
      "       leonor greyl                                                                      leonor greyl, leonor greyl paris\n",
      "                 47                                                                                          47, 47 brand\n"
     ]
    }
   ],
   "source": [
    "groups = pd.DataFrame(list(brand_clusters_dict.items()), columns=[\"Key\", \"Values\"])\n",
    "\n",
    "groups[\"Values\"] = groups[\"Values\"].apply(lambda x: ', '.join(x))\n",
    "print(groups.to_string(index=False))"
   ]
  },
  {
   "cell_type": "code",
   "execution_count": 21,
   "metadata": {},
   "outputs": [
    {
     "data": {
      "text/html": [
       "<div>\n",
       "<style scoped>\n",
       "    .dataframe tbody tr th:only-of-type {\n",
       "        vertical-align: middle;\n",
       "    }\n",
       "\n",
       "    .dataframe tbody tr th {\n",
       "        vertical-align: top;\n",
       "    }\n",
       "\n",
       "    .dataframe thead th {\n",
       "        text-align: right;\n",
       "    }\n",
       "</style>\n",
       "<table border=\"1\" class=\"dataframe\">\n",
       "  <thead>\n",
       "    <tr style=\"text-align: right;\">\n",
       "      <th></th>\n",
       "      <th>row_id</th>\n",
       "      <th>brand_name</th>\n",
       "      <th>language_code</th>\n",
       "      <th>google_category_id</th>\n",
       "      <th>row_weight</th>\n",
       "      <th>clean_brand_name</th>\n",
       "      <th>category_level_1</th>\n",
       "      <th>category_level_2</th>\n",
       "      <th>category_level_3</th>\n",
       "      <th>category_level_4</th>\n",
       "      <th>category_level_5</th>\n",
       "      <th>category_level_6</th>\n",
       "      <th>category_level_7</th>\n",
       "      <th>brand_cluster</th>\n",
       "    </tr>\n",
       "  </thead>\n",
       "  <tbody>\n",
       "    <tr>\n",
       "      <th>54284</th>\n",
       "      <td>54284</td>\n",
       "      <td>inlzdz</td>\n",
       "      <td>en</td>\n",
       "      <td>5598</td>\n",
       "      <td>0.289238</td>\n",
       "      <td>inlzdz</td>\n",
       "      <td>Apparel &amp; Accessories</td>\n",
       "      <td>Clothing</td>\n",
       "      <td>Outerwear</td>\n",
       "      <td>Coats &amp; Jackets</td>\n",
       "      <td>NaN</td>\n",
       "      <td>NaN</td>\n",
       "      <td>NaN</td>\n",
       "      <td>inlzdz</td>\n",
       "    </tr>\n",
       "    <tr>\n",
       "      <th>32632</th>\n",
       "      <td>32632</td>\n",
       "      <td>Gestuz</td>\n",
       "      <td>de</td>\n",
       "      <td>212</td>\n",
       "      <td>0.431939</td>\n",
       "      <td>gestuz</td>\n",
       "      <td>Apparel &amp; Accessories</td>\n",
       "      <td>Clothing</td>\n",
       "      <td>Shirts &amp; Tops</td>\n",
       "      <td>NaN</td>\n",
       "      <td>NaN</td>\n",
       "      <td>NaN</td>\n",
       "      <td>NaN</td>\n",
       "      <td>gestuz</td>\n",
       "    </tr>\n",
       "    <tr>\n",
       "      <th>36847</th>\n",
       "      <td>36847</td>\n",
       "      <td>Nike</td>\n",
       "      <td>en</td>\n",
       "      <td>3141</td>\n",
       "      <td>0.402295</td>\n",
       "      <td>nike</td>\n",
       "      <td>Sporting Goods</td>\n",
       "      <td>Athletics</td>\n",
       "      <td>Soccer</td>\n",
       "      <td>Soccer Gloves</td>\n",
       "      <td>NaN</td>\n",
       "      <td>NaN</td>\n",
       "      <td>NaN</td>\n",
       "      <td>nike</td>\n",
       "    </tr>\n",
       "    <tr>\n",
       "      <th>57307</th>\n",
       "      <td>57307</td>\n",
       "      <td>NaN</td>\n",
       "      <td>de</td>\n",
       "      <td>504637</td>\n",
       "      <td>0.549798</td>\n",
       "      <td>-1</td>\n",
       "      <td>Hardware</td>\n",
       "      <td>Plumbing</td>\n",
       "      <td>Plumbing Fixture Hardware &amp; Parts</td>\n",
       "      <td>Drain Components</td>\n",
       "      <td>NaN</td>\n",
       "      <td>NaN</td>\n",
       "      <td>NaN</td>\n",
       "      <td>-1</td>\n",
       "    </tr>\n",
       "    <tr>\n",
       "      <th>5732</th>\n",
       "      <td>5732</td>\n",
       "      <td>Kirin</td>\n",
       "      <td>en</td>\n",
       "      <td>204</td>\n",
       "      <td>0.306462</td>\n",
       "      <td>kirin</td>\n",
       "      <td>Apparel &amp; Accessories</td>\n",
       "      <td>Clothing</td>\n",
       "      <td>Pants</td>\n",
       "      <td>NaN</td>\n",
       "      <td>NaN</td>\n",
       "      <td>NaN</td>\n",
       "      <td>NaN</td>\n",
       "      <td>kirin</td>\n",
       "    </tr>\n",
       "  </tbody>\n",
       "</table>\n",
       "</div>"
      ],
      "text/plain": [
       "       row_id brand_name language_code  google_category_id  row_weight  \\\n",
       "54284   54284     inlzdz            en                5598    0.289238   \n",
       "32632   32632     Gestuz            de                 212    0.431939   \n",
       "36847   36847       Nike            en                3141    0.402295   \n",
       "57307   57307        NaN            de              504637    0.549798   \n",
       "5732     5732      Kirin            en                 204    0.306462   \n",
       "\n",
       "      clean_brand_name       category_level_1 category_level_2  \\\n",
       "54284           inlzdz  Apparel & Accessories         Clothing   \n",
       "32632           gestuz  Apparel & Accessories         Clothing   \n",
       "36847             nike         Sporting Goods        Athletics   \n",
       "57307               -1               Hardware         Plumbing   \n",
       "5732             kirin  Apparel & Accessories         Clothing   \n",
       "\n",
       "                        category_level_3  category_level_4  category_level_5  \\\n",
       "54284                          Outerwear   Coats & Jackets               NaN   \n",
       "32632                      Shirts & Tops               NaN               NaN   \n",
       "36847                             Soccer     Soccer Gloves               NaN   \n",
       "57307  Plumbing Fixture Hardware & Parts  Drain Components               NaN   \n",
       "5732                               Pants               NaN               NaN   \n",
       "\n",
       "       category_level_6  category_level_7 brand_cluster  \n",
       "54284               NaN               NaN        inlzdz  \n",
       "32632               NaN               NaN        gestuz  \n",
       "36847               NaN               NaN          nike  \n",
       "57307               NaN               NaN            -1  \n",
       "5732                NaN               NaN         kirin  "
      ]
     },
     "execution_count": 21,
     "metadata": {},
     "output_type": "execute_result"
    }
   ],
   "source": [
    "def map_brands_to_clusters(df, brand_column, cluster_column, brand_clusters_dict):\n",
    "    \"\"\"\n",
    "    Adds a new column to the DataFrame that maps each brand name to its corresponding cluster key.\n",
    "\n",
    "    Parameters:\n",
    "      df: Pandas DataFrame containing the brand names.\n",
    "      brand_column: Name of the column with original brand names.\n",
    "      cluster_column: Name of the new column to store the mapped cluster keys.\n",
    "      brand_clusters_dict: Dictionary where keys are common words and values are lists of similar brands.\n",
    "\n",
    "    Returns:\n",
    "      A modified DataFrame with an additional column containing the cluster key for each brand name.\n",
    "    \"\"\"\n",
    "    brand_to_cluster = {}\n",
    "\n",
    "    # Create a mapping of brand to its cluster key\n",
    "    for key, brands in brand_clusters_dict.items():\n",
    "        for brand in brands:\n",
    "            brand_to_cluster[brand] = key\n",
    "\n",
    "    # Create a new column with the cluster key\n",
    "    df[cluster_column] = df[brand_column].apply(lambda x: brand_to_cluster.get(x, x))\n",
    "\n",
    "    return df\n",
    "\n",
    "df = map_brands_to_clusters(df, 'clean_brand_name', 'brand_cluster', brand_clusters_dict)\n",
    "df.head(5)\n"
   ]
  },
  {
   "cell_type": "code",
   "execution_count": 22,
   "metadata": {},
   "outputs": [
    {
     "data": {
      "text/html": [
       "<div>\n",
       "<style scoped>\n",
       "    .dataframe tbody tr th:only-of-type {\n",
       "        vertical-align: middle;\n",
       "    }\n",
       "\n",
       "    .dataframe tbody tr th {\n",
       "        vertical-align: top;\n",
       "    }\n",
       "\n",
       "    .dataframe thead th {\n",
       "        text-align: right;\n",
       "    }\n",
       "</style>\n",
       "<table border=\"1\" class=\"dataframe\">\n",
       "  <thead>\n",
       "    <tr style=\"text-align: right;\">\n",
       "      <th></th>\n",
       "      <th>row_id</th>\n",
       "      <th>brand_name</th>\n",
       "      <th>language_code</th>\n",
       "      <th>google_category_id</th>\n",
       "      <th>row_weight</th>\n",
       "      <th>clean_brand_name</th>\n",
       "      <th>category_level_1</th>\n",
       "      <th>category_level_2</th>\n",
       "      <th>category_level_3</th>\n",
       "      <th>category_level_4</th>\n",
       "      <th>category_level_5</th>\n",
       "      <th>category_level_6</th>\n",
       "      <th>category_level_7</th>\n",
       "      <th>brand_cluster</th>\n",
       "    </tr>\n",
       "  </thead>\n",
       "  <tbody>\n",
       "    <tr>\n",
       "      <th>54284</th>\n",
       "      <td>54284</td>\n",
       "      <td>inlzdz</td>\n",
       "      <td>en</td>\n",
       "      <td>5598</td>\n",
       "      <td>0.289238</td>\n",
       "      <td>inlzdz</td>\n",
       "      <td>Apparel &amp; Accessories</td>\n",
       "      <td>Clothing</td>\n",
       "      <td>Outerwear</td>\n",
       "      <td>Coats &amp; Jackets</td>\n",
       "      <td>NaN</td>\n",
       "      <td>NaN</td>\n",
       "      <td>NaN</td>\n",
       "      <td>inlzdz</td>\n",
       "    </tr>\n",
       "    <tr>\n",
       "      <th>32632</th>\n",
       "      <td>32632</td>\n",
       "      <td>Gestuz</td>\n",
       "      <td>de</td>\n",
       "      <td>212</td>\n",
       "      <td>0.431939</td>\n",
       "      <td>gestuz</td>\n",
       "      <td>Apparel &amp; Accessories</td>\n",
       "      <td>Clothing</td>\n",
       "      <td>Shirts &amp; Tops</td>\n",
       "      <td>NaN</td>\n",
       "      <td>NaN</td>\n",
       "      <td>NaN</td>\n",
       "      <td>NaN</td>\n",
       "      <td>gestuz</td>\n",
       "    </tr>\n",
       "    <tr>\n",
       "      <th>36847</th>\n",
       "      <td>36847</td>\n",
       "      <td>Nike</td>\n",
       "      <td>en</td>\n",
       "      <td>3141</td>\n",
       "      <td>0.402295</td>\n",
       "      <td>nike</td>\n",
       "      <td>Sporting Goods</td>\n",
       "      <td>Athletics</td>\n",
       "      <td>Soccer</td>\n",
       "      <td>Soccer Gloves</td>\n",
       "      <td>NaN</td>\n",
       "      <td>NaN</td>\n",
       "      <td>NaN</td>\n",
       "      <td>nike</td>\n",
       "    </tr>\n",
       "    <tr>\n",
       "      <th>57307</th>\n",
       "      <td>57307</td>\n",
       "      <td>NaN</td>\n",
       "      <td>de</td>\n",
       "      <td>504637</td>\n",
       "      <td>0.549798</td>\n",
       "      <td>-1</td>\n",
       "      <td>Hardware</td>\n",
       "      <td>Plumbing</td>\n",
       "      <td>Plumbing Fixture Hardware &amp; Parts</td>\n",
       "      <td>Drain Components</td>\n",
       "      <td>NaN</td>\n",
       "      <td>NaN</td>\n",
       "      <td>NaN</td>\n",
       "      <td>-1</td>\n",
       "    </tr>\n",
       "    <tr>\n",
       "      <th>5732</th>\n",
       "      <td>5732</td>\n",
       "      <td>Kirin</td>\n",
       "      <td>en</td>\n",
       "      <td>204</td>\n",
       "      <td>0.306462</td>\n",
       "      <td>kirin</td>\n",
       "      <td>Apparel &amp; Accessories</td>\n",
       "      <td>Clothing</td>\n",
       "      <td>Pants</td>\n",
       "      <td>NaN</td>\n",
       "      <td>NaN</td>\n",
       "      <td>NaN</td>\n",
       "      <td>NaN</td>\n",
       "      <td>kirin</td>\n",
       "    </tr>\n",
       "    <tr>\n",
       "      <th>37507</th>\n",
       "      <td>37507</td>\n",
       "      <td>Honda</td>\n",
       "      <td>en</td>\n",
       "      <td>3020</td>\n",
       "      <td>0.613543</td>\n",
       "      <td>honda</td>\n",
       "      <td>Vehicles &amp; Parts</td>\n",
       "      <td>Vehicle Parts &amp; Accessories</td>\n",
       "      <td>Motor Vehicle Parts</td>\n",
       "      <td>Motor Vehicle Wheel Systems</td>\n",
       "      <td>NaN</td>\n",
       "      <td>NaN</td>\n",
       "      <td>NaN</td>\n",
       "      <td>honda</td>\n",
       "    </tr>\n",
       "    <tr>\n",
       "      <th>59378</th>\n",
       "      <td>59378</td>\n",
       "      <td>NaN</td>\n",
       "      <td>it</td>\n",
       "      <td>5866</td>\n",
       "      <td>0.551702</td>\n",
       "      <td>-1</td>\n",
       "      <td>Home &amp; Garden</td>\n",
       "      <td>Lawn &amp; Garden</td>\n",
       "      <td>Outdoor Power Equipment</td>\n",
       "      <td>Tractors</td>\n",
       "      <td>NaN</td>\n",
       "      <td>NaN</td>\n",
       "      <td>NaN</td>\n",
       "      <td>-1</td>\n",
       "    </tr>\n",
       "    <tr>\n",
       "      <th>9558</th>\n",
       "      <td>9558</td>\n",
       "      <td>Andoer</td>\n",
       "      <td>en</td>\n",
       "      <td>505295</td>\n",
       "      <td>0.309084</td>\n",
       "      <td>andoer</td>\n",
       "      <td>Electronics</td>\n",
       "      <td>Electronics Accessories</td>\n",
       "      <td>Power</td>\n",
       "      <td>Power Adapters &amp; Chargers</td>\n",
       "      <td>NaN</td>\n",
       "      <td>NaN</td>\n",
       "      <td>NaN</td>\n",
       "      <td>andoer</td>\n",
       "    </tr>\n",
       "    <tr>\n",
       "      <th>12354</th>\n",
       "      <td>12354</td>\n",
       "      <td>XT-XINTE</td>\n",
       "      <td>en</td>\n",
       "      <td>2414</td>\n",
       "      <td>0.407141</td>\n",
       "      <td>xtxinte</td>\n",
       "      <td>Electronics</td>\n",
       "      <td>Electronics Accessories</td>\n",
       "      <td>Computer Components</td>\n",
       "      <td>Storage Devices</td>\n",
       "      <td>NaN</td>\n",
       "      <td>NaN</td>\n",
       "      <td>NaN</td>\n",
       "      <td>xtxinte</td>\n",
       "    </tr>\n",
       "    <tr>\n",
       "      <th>26348</th>\n",
       "      <td>26348</td>\n",
       "      <td>Advantus</td>\n",
       "      <td>en</td>\n",
       "      <td>925</td>\n",
       "      <td>0.236345</td>\n",
       "      <td>advantus</td>\n",
       "      <td>Office Supplies</td>\n",
       "      <td>Filing &amp; Organization</td>\n",
       "      <td>File Boxes</td>\n",
       "      <td>NaN</td>\n",
       "      <td>NaN</td>\n",
       "      <td>NaN</td>\n",
       "      <td>NaN</td>\n",
       "      <td>advantus</td>\n",
       "    </tr>\n",
       "  </tbody>\n",
       "</table>\n",
       "</div>"
      ],
      "text/plain": [
       "       row_id brand_name language_code  google_category_id  row_weight  \\\n",
       "54284   54284     inlzdz            en                5598    0.289238   \n",
       "32632   32632     Gestuz            de                 212    0.431939   \n",
       "36847   36847       Nike            en                3141    0.402295   \n",
       "57307   57307        NaN            de              504637    0.549798   \n",
       "5732     5732      Kirin            en                 204    0.306462   \n",
       "37507   37507      Honda            en                3020    0.613543   \n",
       "59378   59378        NaN            it                5866    0.551702   \n",
       "9558     9558     Andoer            en              505295    0.309084   \n",
       "12354   12354   XT-XINTE            en                2414    0.407141   \n",
       "26348   26348   Advantus            en                 925    0.236345   \n",
       "\n",
       "      clean_brand_name       category_level_1             category_level_2  \\\n",
       "54284           inlzdz  Apparel & Accessories                     Clothing   \n",
       "32632           gestuz  Apparel & Accessories                     Clothing   \n",
       "36847             nike         Sporting Goods                    Athletics   \n",
       "57307               -1               Hardware                     Plumbing   \n",
       "5732             kirin  Apparel & Accessories                     Clothing   \n",
       "37507            honda       Vehicles & Parts  Vehicle Parts & Accessories   \n",
       "59378               -1          Home & Garden                Lawn & Garden   \n",
       "9558            andoer            Electronics      Electronics Accessories   \n",
       "12354          xtxinte            Electronics      Electronics Accessories   \n",
       "26348         advantus        Office Supplies        Filing & Organization   \n",
       "\n",
       "                        category_level_3             category_level_4  \\\n",
       "54284                          Outerwear              Coats & Jackets   \n",
       "32632                      Shirts & Tops                          NaN   \n",
       "36847                             Soccer                Soccer Gloves   \n",
       "57307  Plumbing Fixture Hardware & Parts             Drain Components   \n",
       "5732                               Pants                          NaN   \n",
       "37507                Motor Vehicle Parts  Motor Vehicle Wheel Systems   \n",
       "59378            Outdoor Power Equipment                     Tractors   \n",
       "9558                               Power    Power Adapters & Chargers   \n",
       "12354                Computer Components              Storage Devices   \n",
       "26348                         File Boxes                          NaN   \n",
       "\n",
       "       category_level_5  category_level_6  category_level_7 brand_cluster  \n",
       "54284               NaN               NaN               NaN        inlzdz  \n",
       "32632               NaN               NaN               NaN        gestuz  \n",
       "36847               NaN               NaN               NaN          nike  \n",
       "57307               NaN               NaN               NaN            -1  \n",
       "5732                NaN               NaN               NaN         kirin  \n",
       "37507               NaN               NaN               NaN         honda  \n",
       "59378               NaN               NaN               NaN            -1  \n",
       "9558                NaN               NaN               NaN        andoer  \n",
       "12354               NaN               NaN               NaN       xtxinte  \n",
       "26348               NaN               NaN               NaN      advantus  "
      ]
     },
     "execution_count": 22,
     "metadata": {},
     "output_type": "execute_result"
    }
   ],
   "source": [
    "#drop clean_brand_name column\n",
    "df.head(10)"
   ]
  },
  {
   "cell_type": "code",
   "execution_count": 23,
   "metadata": {},
   "outputs": [],
   "source": [
    "df[['clean_brand_name', 'brand_cluster']].head(500)\n",
    "check = df[df['clean_brand_name'] != df['brand_cluster']][['clean_brand_name', 'brand_cluster']].head(500)"
   ]
  },
  {
   "cell_type": "code",
   "execution_count": 24,
   "metadata": {},
   "outputs": [
    {
     "data": {
      "text/html": [
       "<div>\n",
       "<style scoped>\n",
       "    .dataframe tbody tr th:only-of-type {\n",
       "        vertical-align: middle;\n",
       "    }\n",
       "\n",
       "    .dataframe tbody tr th {\n",
       "        vertical-align: top;\n",
       "    }\n",
       "\n",
       "    .dataframe thead th {\n",
       "        text-align: right;\n",
       "    }\n",
       "</style>\n",
       "<table border=\"1\" class=\"dataframe\">\n",
       "  <thead>\n",
       "    <tr style=\"text-align: right;\">\n",
       "      <th></th>\n",
       "      <th>clean_brand_name</th>\n",
       "      <th>brand_cluster</th>\n",
       "    </tr>\n",
       "  </thead>\n",
       "  <tbody>\n",
       "    <tr>\n",
       "      <th>9750</th>\n",
       "      <td>armani jeans</td>\n",
       "      <td>armani</td>\n",
       "    </tr>\n",
       "    <tr>\n",
       "      <th>8340</th>\n",
       "      <td>ralph lauren collection</td>\n",
       "      <td>ralph lauren</td>\n",
       "    </tr>\n",
       "    <tr>\n",
       "      <th>50229</th>\n",
       "      <td>stella mccartney kids</td>\n",
       "      <td>stella mccartney</td>\n",
       "    </tr>\n",
       "    <tr>\n",
       "      <th>56890</th>\n",
       "      <td>canada goose kids</td>\n",
       "      <td>canada goose</td>\n",
       "    </tr>\n",
       "    <tr>\n",
       "      <th>38868</th>\n",
       "      <td>filling pieces</td>\n",
       "      <td>pieces</td>\n",
       "    </tr>\n",
       "    <tr>\n",
       "      <th>24066</th>\n",
       "      <td>christian dior</td>\n",
       "      <td>dior</td>\n",
       "    </tr>\n",
       "    <tr>\n",
       "      <th>33030</th>\n",
       "      <td>nike swim</td>\n",
       "      <td>nike</td>\n",
       "    </tr>\n",
       "    <tr>\n",
       "      <th>51593</th>\n",
       "      <td>paco rabanne</td>\n",
       "      <td>rabanne</td>\n",
       "    </tr>\n",
       "    <tr>\n",
       "      <th>8684</th>\n",
       "      <td>christian dior</td>\n",
       "      <td>dior</td>\n",
       "    </tr>\n",
       "    <tr>\n",
       "      <th>16760</th>\n",
       "      <td>fanatics authentic</td>\n",
       "      <td>fanatics</td>\n",
       "    </tr>\n",
       "    <tr>\n",
       "      <th>17445</th>\n",
       "      <td>kurt s adler</td>\n",
       "      <td>kurt adler</td>\n",
       "    </tr>\n",
       "    <tr>\n",
       "      <th>38489</th>\n",
       "      <td>mm6 maison margiela</td>\n",
       "      <td>maison margiela</td>\n",
       "    </tr>\n",
       "    <tr>\n",
       "      <th>9926</th>\n",
       "      <td>michael kors collection</td>\n",
       "      <td>michael kors</td>\n",
       "    </tr>\n",
       "    <tr>\n",
       "      <th>2730</th>\n",
       "      <td>christian dior</td>\n",
       "      <td>dior</td>\n",
       "    </tr>\n",
       "    <tr>\n",
       "      <th>21630</th>\n",
       "      <td>calvin klein jeans</td>\n",
       "      <td>calvin klein</td>\n",
       "    </tr>\n",
       "    <tr>\n",
       "      <th>30127</th>\n",
       "      <td>isabel marant etoile</td>\n",
       "      <td>marant etoile</td>\n",
       "    </tr>\n",
       "    <tr>\n",
       "      <th>48103</th>\n",
       "      <td>versace kids</td>\n",
       "      <td>versace</td>\n",
       "    </tr>\n",
       "    <tr>\n",
       "      <th>15500</th>\n",
       "      <td>missoni home</td>\n",
       "      <td>missoni</td>\n",
       "    </tr>\n",
       "    <tr>\n",
       "      <th>26724</th>\n",
       "      <td>google nest</td>\n",
       "      <td>google</td>\n",
       "    </tr>\n",
       "    <tr>\n",
       "      <th>41839</th>\n",
       "      <td>philips hue</td>\n",
       "      <td>philips</td>\n",
       "    </tr>\n",
       "    <tr>\n",
       "      <th>16695</th>\n",
       "      <td>charo ruiz ibiza</td>\n",
       "      <td>charo ruiz</td>\n",
       "    </tr>\n",
       "    <tr>\n",
       "      <th>44183</th>\n",
       "      <td>armani exchange</td>\n",
       "      <td>armani</td>\n",
       "    </tr>\n",
       "    <tr>\n",
       "      <th>55612</th>\n",
       "      <td>gucci eyewear</td>\n",
       "      <td>gucci</td>\n",
       "    </tr>\n",
       "    <tr>\n",
       "      <th>49218</th>\n",
       "      <td>tom dixon</td>\n",
       "      <td>dixon</td>\n",
       "    </tr>\n",
       "    <tr>\n",
       "      <th>60601</th>\n",
       "      <td>disney princess</td>\n",
       "      <td>disney</td>\n",
       "    </tr>\n",
       "    <tr>\n",
       "      <th>42751</th>\n",
       "      <td>balmain kids</td>\n",
       "      <td>balmain</td>\n",
       "    </tr>\n",
       "    <tr>\n",
       "      <th>8085</th>\n",
       "      <td>mm6 maison margiela</td>\n",
       "      <td>maison margiela</td>\n",
       "    </tr>\n",
       "    <tr>\n",
       "      <th>2417</th>\n",
       "      <td>calvin klein jeans</td>\n",
       "      <td>calvin klein</td>\n",
       "    </tr>\n",
       "    <tr>\n",
       "      <th>8888</th>\n",
       "      <td>offwhite kids</td>\n",
       "      <td>offwhite</td>\n",
       "    </tr>\n",
       "    <tr>\n",
       "      <th>2020</th>\n",
       "      <td>trussardi junior</td>\n",
       "      <td>trussardi</td>\n",
       "    </tr>\n",
       "    <tr>\n",
       "      <th>16842</th>\n",
       "      <td>nintendo switch</td>\n",
       "      <td>nintendo</td>\n",
       "    </tr>\n",
       "    <tr>\n",
       "      <th>50283</th>\n",
       "      <td>kingston brass</td>\n",
       "      <td>kingston</td>\n",
       "    </tr>\n",
       "    <tr>\n",
       "      <th>26519</th>\n",
       "      <td>gingpai sport</td>\n",
       "      <td>gingpai</td>\n",
       "    </tr>\n",
       "    <tr>\n",
       "      <th>60518</th>\n",
       "      <td>z zegna</td>\n",
       "      <td>zegna</td>\n",
       "    </tr>\n",
       "    <tr>\n",
       "      <th>49773</th>\n",
       "      <td>m missoni</td>\n",
       "      <td>missoni</td>\n",
       "    </tr>\n",
       "    <tr>\n",
       "      <th>16250</th>\n",
       "      <td>calvin klein jeans</td>\n",
       "      <td>calvin klein</td>\n",
       "    </tr>\n",
       "    <tr>\n",
       "      <th>44613</th>\n",
       "      <td>armani jeans</td>\n",
       "      <td>armani</td>\n",
       "    </tr>\n",
       "    <tr>\n",
       "      <th>18252</th>\n",
       "      <td>louise misha</td>\n",
       "      <td>misha</td>\n",
       "    </tr>\n",
       "    <tr>\n",
       "      <th>50102</th>\n",
       "      <td>polo ralph lauren</td>\n",
       "      <td>ralph lauren</td>\n",
       "    </tr>\n",
       "    <tr>\n",
       "      <th>39460</th>\n",
       "      <td>weekend max mara</td>\n",
       "      <td>max mara</td>\n",
       "    </tr>\n",
       "    <tr>\n",
       "      <th>21165</th>\n",
       "      <td>polo ralph lauren</td>\n",
       "      <td>ralph lauren</td>\n",
       "    </tr>\n",
       "    <tr>\n",
       "      <th>33622</th>\n",
       "      <td>rick owens kids</td>\n",
       "      <td>rick owens</td>\n",
       "    </tr>\n",
       "    <tr>\n",
       "      <th>51987</th>\n",
       "      <td>balmain kids</td>\n",
       "      <td>balmain</td>\n",
       "    </tr>\n",
       "    <tr>\n",
       "      <th>60366</th>\n",
       "      <td>lauren ralph lauren</td>\n",
       "      <td>ralph lauren</td>\n",
       "    </tr>\n",
       "    <tr>\n",
       "      <th>11488</th>\n",
       "      <td>calvin klein performance</td>\n",
       "      <td>calvin klein</td>\n",
       "    </tr>\n",
       "    <tr>\n",
       "      <th>30183</th>\n",
       "      <td>agua by agua bendita</td>\n",
       "      <td>agua bendita</td>\n",
       "    </tr>\n",
       "    <tr>\n",
       "      <th>26305</th>\n",
       "      <td>givenchy kids</td>\n",
       "      <td>givenchy</td>\n",
       "    </tr>\n",
       "    <tr>\n",
       "      <th>18880</th>\n",
       "      <td>joseph</td>\n",
       "      <td>joseph joseph</td>\n",
       "    </tr>\n",
       "    <tr>\n",
       "      <th>18060</th>\n",
       "      <td>christian dior</td>\n",
       "      <td>dior</td>\n",
       "    </tr>\n",
       "    <tr>\n",
       "      <th>40854</th>\n",
       "      <td>calvin klein jeans</td>\n",
       "      <td>calvin klein</td>\n",
       "    </tr>\n",
       "  </tbody>\n",
       "</table>\n",
       "</div>"
      ],
      "text/plain": [
       "               clean_brand_name     brand_cluster\n",
       "9750               armani jeans            armani\n",
       "8340    ralph lauren collection      ralph lauren\n",
       "50229     stella mccartney kids  stella mccartney\n",
       "56890         canada goose kids      canada goose\n",
       "38868            filling pieces            pieces\n",
       "24066            christian dior              dior\n",
       "33030                 nike swim              nike\n",
       "51593              paco rabanne           rabanne\n",
       "8684             christian dior              dior\n",
       "16760        fanatics authentic          fanatics\n",
       "17445              kurt s adler        kurt adler\n",
       "38489       mm6 maison margiela   maison margiela\n",
       "9926    michael kors collection      michael kors\n",
       "2730             christian dior              dior\n",
       "21630        calvin klein jeans      calvin klein\n",
       "30127      isabel marant etoile     marant etoile\n",
       "48103              versace kids           versace\n",
       "15500              missoni home           missoni\n",
       "26724               google nest            google\n",
       "41839               philips hue           philips\n",
       "16695          charo ruiz ibiza        charo ruiz\n",
       "44183           armani exchange            armani\n",
       "55612             gucci eyewear             gucci\n",
       "49218                 tom dixon             dixon\n",
       "60601           disney princess            disney\n",
       "42751              balmain kids           balmain\n",
       "8085        mm6 maison margiela   maison margiela\n",
       "2417         calvin klein jeans      calvin klein\n",
       "8888              offwhite kids          offwhite\n",
       "2020           trussardi junior         trussardi\n",
       "16842           nintendo switch          nintendo\n",
       "50283            kingston brass          kingston\n",
       "26519             gingpai sport           gingpai\n",
       "60518                   z zegna             zegna\n",
       "49773                 m missoni           missoni\n",
       "16250        calvin klein jeans      calvin klein\n",
       "44613              armani jeans            armani\n",
       "18252              louise misha             misha\n",
       "50102         polo ralph lauren      ralph lauren\n",
       "39460          weekend max mara          max mara\n",
       "21165         polo ralph lauren      ralph lauren\n",
       "33622           rick owens kids        rick owens\n",
       "51987              balmain kids           balmain\n",
       "60366       lauren ralph lauren      ralph lauren\n",
       "11488  calvin klein performance      calvin klein\n",
       "30183      agua by agua bendita      agua bendita\n",
       "26305             givenchy kids          givenchy\n",
       "18880                    joseph     joseph joseph\n",
       "18060            christian dior              dior\n",
       "40854        calvin klein jeans      calvin klein"
      ]
     },
     "execution_count": 24,
     "metadata": {},
     "output_type": "execute_result"
    }
   ],
   "source": [
    "check.head(50)"
   ]
  },
  {
   "cell_type": "code",
   "execution_count": 25,
   "metadata": {},
   "outputs": [
    {
     "data": {
      "text/plain": [
       "(172, 2)"
      ]
     },
     "execution_count": 25,
     "metadata": {},
     "output_type": "execute_result"
    }
   ],
   "source": [
    "check.shape"
   ]
  },
  {
   "cell_type": "code",
   "execution_count": 26,
   "metadata": {},
   "outputs": [
    {
     "data": {
      "text/plain": [
       "(12582, 14)"
      ]
     },
     "execution_count": 26,
     "metadata": {},
     "output_type": "execute_result"
    }
   ],
   "source": [
    "df.shape"
   ]
  },
  {
   "cell_type": "code",
   "execution_count": 27,
   "metadata": {},
   "outputs": [
    {
     "data": {
      "text/plain": [
       "5720"
      ]
     },
     "execution_count": 27,
     "metadata": {},
     "output_type": "execute_result"
    }
   ],
   "source": [
    "df['brand_cluster'].nunique()"
   ]
  },
  {
   "cell_type": "code",
   "execution_count": 28,
   "metadata": {},
   "outputs": [],
   "source": [
    "#save the dataframe to a csv file\n",
    "df.to_csv(\"df_mapped.csv\", index=False)"
   ]
  },
  {
   "cell_type": "code",
   "execution_count": 29,
   "metadata": {},
   "outputs": [
    {
     "data": {
      "text/html": [
       "<div>\n",
       "<style scoped>\n",
       "    .dataframe tbody tr th:only-of-type {\n",
       "        vertical-align: middle;\n",
       "    }\n",
       "\n",
       "    .dataframe tbody tr th {\n",
       "        vertical-align: top;\n",
       "    }\n",
       "\n",
       "    .dataframe thead th {\n",
       "        text-align: right;\n",
       "    }\n",
       "</style>\n",
       "<table border=\"1\" class=\"dataframe\">\n",
       "  <thead>\n",
       "    <tr style=\"text-align: right;\">\n",
       "      <th></th>\n",
       "      <th>group_id</th>\n",
       "      <th>slug</th>\n",
       "      <th>row_ids</th>\n",
       "      <th>brand_names</th>\n",
       "      <th>categories</th>\n",
       "      <th>row_weights</th>\n",
       "      <th>languages</th>\n",
       "      <th>localization</th>\n",
       "      <th>n_brand_names</th>\n",
       "      <th>total_weight</th>\n",
       "      <th>n_languages</th>\n",
       "      <th>n_categories</th>\n",
       "    </tr>\n",
       "  </thead>\n",
       "  <tbody>\n",
       "    <tr>\n",
       "      <th>0</th>\n",
       "      <td>-1</td>\n",
       "      <td>-1</td>\n",
       "      <td>[57307, 59378, 33579, 5946, 8662, 5943, 38581,...</td>\n",
       "      <td>[nan, nan, nan, nan, nan, nan, nan, nan, nan, ...</td>\n",
       "      <td>[504637, 5866, 499898, 5423, 1505, 1463, 525, ...</td>\n",
       "      <td>[0.5497975721, 0.5517016236, 0.5084593272, 0.4...</td>\n",
       "      <td>[de, it, de, fr, en, en, ko, it, en, es, pt, k...</td>\n",
       "      <td>{'de': nan, 'it': nan, 'fr': nan, 'en': nan, '...</td>\n",
       "      <td>67</td>\n",
       "      <td>1043.086962</td>\n",
       "      <td>10</td>\n",
       "      <td>1155</td>\n",
       "    </tr>\n",
       "    <tr>\n",
       "      <th>1</th>\n",
       "      <td>0</td>\n",
       "      <td>disney</td>\n",
       "      <td>[45686, 23448, 43300, 51506, 48882, 46640, 703...</td>\n",
       "      <td>[Disney, Disney, Disney, Disney, Disney, Disne...</td>\n",
       "      <td>[674, 1243, 6397, 211, 397, 3601, 5409, 499845...</td>\n",
       "      <td>[0.4732669698, 0.3633569839, 0.273265832, 0.41...</td>\n",
       "      <td>[es, en, en, en, en, en, en, en, en, en, en, e...</td>\n",
       "      <td>{'es': 'Disney', 'en': 'Disney'}</td>\n",
       "      <td>2</td>\n",
       "      <td>23.282313</td>\n",
       "      <td>2</td>\n",
       "      <td>58</td>\n",
       "    </tr>\n",
       "    <tr>\n",
       "      <th>2</th>\n",
       "      <td>1</td>\n",
       "      <td>vevor</td>\n",
       "      <td>[8038, 52528, 29662, 39966, 52968, 17904, 1119...</td>\n",
       "      <td>[VEVOR, VEVOR, VEVOR, VEVOR, VEVOR, VEVOR, VEV...</td>\n",
       "      <td>[952, 586, 3436, 3684, 616, 1194, 1184, 8236, ...</td>\n",
       "      <td>[0.2630395468, 0.2980161196, 0.349981633, 0.38...</td>\n",
       "      <td>[en, en, en, en, en, en, en, en, en, en, en, e...</td>\n",
       "      <td>{'en': 'VEVOR'}</td>\n",
       "      <td>1</td>\n",
       "      <td>14.008752</td>\n",
       "      <td>1</td>\n",
       "      <td>43</td>\n",
       "    </tr>\n",
       "    <tr>\n",
       "      <th>3</th>\n",
       "      <td>2</td>\n",
       "      <td>bosch</td>\n",
       "      <td>[57553, 58572, 17145, 14797, 13931, 23363, 130...</td>\n",
       "      <td>[Bosch, Bosch, Bosch, Bosch, Bosch, Bosch, BOS...</td>\n",
       "      <td>[264, 503737, 2549, 618, 1203, 2727, 619, 8236...</td>\n",
       "      <td>[0.3479219774, 0.3704948612, 0.5129732222, 0.4...</td>\n",
       "      <td>[en, de, es, de, de, en, fr, en, es, en, en, p...</td>\n",
       "      <td>{'en': 'Bosch', 'de': 'Bosch', 'es': 'Bosch', ...</td>\n",
       "      <td>2</td>\n",
       "      <td>15.920517</td>\n",
       "      <td>6</td>\n",
       "      <td>31</td>\n",
       "    </tr>\n",
       "    <tr>\n",
       "      <th>4</th>\n",
       "      <td>3</td>\n",
       "      <td>calvin klein</td>\n",
       "      <td>[871, 32193, 52314, 41944, 2802, 21630, 39362,...</td>\n",
       "      <td>[Calvin Klein, Calvin Klein, Calvin Klein, Cal...</td>\n",
       "      <td>[5183, 2668, 5424, 212, 178, 1831, 479, 2580, ...</td>\n",
       "      <td>[0.3805605416, 0.4281684108, 0.3221414653, 0.5...</td>\n",
       "      <td>[en, de, en, nl, de, de, en, de, en, en, de, d...</td>\n",
       "      <td>{'en': 'Calvin Klein', 'de': 'Calvin Klein', '...</td>\n",
       "      <td>4</td>\n",
       "      <td>13.444201</td>\n",
       "      <td>5</td>\n",
       "      <td>26</td>\n",
       "    </tr>\n",
       "    <tr>\n",
       "      <th>5</th>\n",
       "      <td>4</td>\n",
       "      <td>sanrio</td>\n",
       "      <td>[11578, 31601, 54627, 17790, 19468, 10934, 157...</td>\n",
       "      <td>[Sanrio, Sanrio, Sanrio, Sanrio, Sanrio, Sanri...</td>\n",
       "      <td>[6065, 5622, 961, 3584, 478, 4546, 173, 2271, ...</td>\n",
       "      <td>[0.5170857679, 0.349981633, 0.4898816621, 0.42...</td>\n",
       "      <td>[en, en, en, en, en, en, en, en, en, en, en, e...</td>\n",
       "      <td>{'en': 'Sanrio'}</td>\n",
       "      <td>2</td>\n",
       "      <td>10.722983</td>\n",
       "      <td>1</td>\n",
       "      <td>26</td>\n",
       "    </tr>\n",
       "    <tr>\n",
       "      <th>6</th>\n",
       "      <td>5</td>\n",
       "      <td>xiaomi</td>\n",
       "      <td>[2648, 45421, 61693, 45144, 6412, 46810, 22359...</td>\n",
       "      <td>[Xiaomi, Xiaomi, Xiaomi, XIAOMI, Xiaomi, XIAOM...</td>\n",
       "      <td>[3809, 155, 2524, 4745, 608, 267, 4745, 249, 5...</td>\n",
       "      <td>[0.3416868727, 0.3088440546, 0.3006515236, 0.3...</td>\n",
       "      <td>[en, en, en, en, en, es, en, en, en, en, es, e...</td>\n",
       "      <td>{'en': 'XIAOMI', 'es': 'XIAOMI', 'fr': 'XIAOMI'}</td>\n",
       "      <td>2</td>\n",
       "      <td>13.090949</td>\n",
       "      <td>3</td>\n",
       "      <td>25</td>\n",
       "    </tr>\n",
       "    <tr>\n",
       "      <th>7</th>\n",
       "      <td>6</td>\n",
       "      <td>philips</td>\n",
       "      <td>[13171, 24225, 41839, 41103, 22340, 49375, 646...</td>\n",
       "      <td>[Philips, Philips, Philips Hue, Philips, Phili...</td>\n",
       "      <td>[2524, 533, 3329, 505666, 2690, 533, 2690, 738...</td>\n",
       "      <td>[0.4662755742, 0.4987983083, 0.3980701599, 0.3...</td>\n",
       "      <td>[de, pt, en, es, en, fr, de, en, en, en, en, d...</td>\n",
       "      <td>{'de': 'Philips', 'pt': 'Philips', 'en': 'Phil...</td>\n",
       "      <td>3</td>\n",
       "      <td>12.324644</td>\n",
       "      <td>5</td>\n",
       "      <td>23</td>\n",
       "    </tr>\n",
       "    <tr>\n",
       "      <th>8</th>\n",
       "      <td>7</td>\n",
       "      <td>samsung</td>\n",
       "      <td>[7308, 37106, 42779, 21799, 48775, 7900, 4873,...</td>\n",
       "      <td>[SAMSUNG, Samsung, Samsung, Samsung, Samsung, ...</td>\n",
       "      <td>[264, 328, 276, 680, 679, 505295, 276, 201, 50...</td>\n",
       "      <td>[0.4842467192, 0.4699362053, 0.4398828814, 0.4...</td>\n",
       "      <td>[es, en, de, en, en, en, en, es, fr, fr, es, e...</td>\n",
       "      <td>{'es': 'Samsung', 'en': 'Samsung', 'de': 'Sams...</td>\n",
       "      <td>2</td>\n",
       "      <td>12.186709</td>\n",
       "      <td>4</td>\n",
       "      <td>22</td>\n",
       "    </tr>\n",
       "    <tr>\n",
       "      <th>9</th>\n",
       "      <td>8</td>\n",
       "      <td>adidas</td>\n",
       "      <td>[34508, 53595, 35983, 25847, 56543, 43039, 884...</td>\n",
       "      <td>[adidas, adidas, adidas, Adidas, Adidas, Adida...</td>\n",
       "      <td>[7313, 204, 5608, 100, 173, 173, 2271, 1112, 1...</td>\n",
       "      <td>[0.4298689674, 0.5017505179, 0.314223896, 0.40...</td>\n",
       "      <td>[de, fr, en, en, de, es, de, en, de, de, de, e...</td>\n",
       "      <td>{'de': 'Adidas', 'fr': 'adidas', 'en': 'adidas...</td>\n",
       "      <td>3</td>\n",
       "      <td>17.796716</td>\n",
       "      <td>7</td>\n",
       "      <td>22</td>\n",
       "    </tr>\n",
       "  </tbody>\n",
       "</table>\n",
       "</div>"
      ],
      "text/plain": [
       "   group_id          slug                                            row_ids  \\\n",
       "0        -1            -1  [57307, 59378, 33579, 5946, 8662, 5943, 38581,...   \n",
       "1         0        disney  [45686, 23448, 43300, 51506, 48882, 46640, 703...   \n",
       "2         1         vevor  [8038, 52528, 29662, 39966, 52968, 17904, 1119...   \n",
       "3         2         bosch  [57553, 58572, 17145, 14797, 13931, 23363, 130...   \n",
       "4         3  calvin klein  [871, 32193, 52314, 41944, 2802, 21630, 39362,...   \n",
       "5         4        sanrio  [11578, 31601, 54627, 17790, 19468, 10934, 157...   \n",
       "6         5        xiaomi  [2648, 45421, 61693, 45144, 6412, 46810, 22359...   \n",
       "7         6       philips  [13171, 24225, 41839, 41103, 22340, 49375, 646...   \n",
       "8         7       samsung  [7308, 37106, 42779, 21799, 48775, 7900, 4873,...   \n",
       "9         8        adidas  [34508, 53595, 35983, 25847, 56543, 43039, 884...   \n",
       "\n",
       "                                         brand_names  \\\n",
       "0  [nan, nan, nan, nan, nan, nan, nan, nan, nan, ...   \n",
       "1  [Disney, Disney, Disney, Disney, Disney, Disne...   \n",
       "2  [VEVOR, VEVOR, VEVOR, VEVOR, VEVOR, VEVOR, VEV...   \n",
       "3  [Bosch, Bosch, Bosch, Bosch, Bosch, Bosch, BOS...   \n",
       "4  [Calvin Klein, Calvin Klein, Calvin Klein, Cal...   \n",
       "5  [Sanrio, Sanrio, Sanrio, Sanrio, Sanrio, Sanri...   \n",
       "6  [Xiaomi, Xiaomi, Xiaomi, XIAOMI, Xiaomi, XIAOM...   \n",
       "7  [Philips, Philips, Philips Hue, Philips, Phili...   \n",
       "8  [SAMSUNG, Samsung, Samsung, Samsung, Samsung, ...   \n",
       "9  [adidas, adidas, adidas, Adidas, Adidas, Adida...   \n",
       "\n",
       "                                          categories  \\\n",
       "0  [504637, 5866, 499898, 5423, 1505, 1463, 525, ...   \n",
       "1  [674, 1243, 6397, 211, 397, 3601, 5409, 499845...   \n",
       "2  [952, 586, 3436, 3684, 616, 1194, 1184, 8236, ...   \n",
       "3  [264, 503737, 2549, 618, 1203, 2727, 619, 8236...   \n",
       "4  [5183, 2668, 5424, 212, 178, 1831, 479, 2580, ...   \n",
       "5  [6065, 5622, 961, 3584, 478, 4546, 173, 2271, ...   \n",
       "6  [3809, 155, 2524, 4745, 608, 267, 4745, 249, 5...   \n",
       "7  [2524, 533, 3329, 505666, 2690, 533, 2690, 738...   \n",
       "8  [264, 328, 276, 680, 679, 505295, 276, 201, 50...   \n",
       "9  [7313, 204, 5608, 100, 173, 173, 2271, 1112, 1...   \n",
       "\n",
       "                                         row_weights  \\\n",
       "0  [0.5497975721, 0.5517016236, 0.5084593272, 0.4...   \n",
       "1  [0.4732669698, 0.3633569839, 0.273265832, 0.41...   \n",
       "2  [0.2630395468, 0.2980161196, 0.349981633, 0.38...   \n",
       "3  [0.3479219774, 0.3704948612, 0.5129732222, 0.4...   \n",
       "4  [0.3805605416, 0.4281684108, 0.3221414653, 0.5...   \n",
       "5  [0.5170857679, 0.349981633, 0.4898816621, 0.42...   \n",
       "6  [0.3416868727, 0.3088440546, 0.3006515236, 0.3...   \n",
       "7  [0.4662755742, 0.4987983083, 0.3980701599, 0.3...   \n",
       "8  [0.4842467192, 0.4699362053, 0.4398828814, 0.4...   \n",
       "9  [0.4298689674, 0.5017505179, 0.314223896, 0.40...   \n",
       "\n",
       "                                           languages  \\\n",
       "0  [de, it, de, fr, en, en, ko, it, en, es, pt, k...   \n",
       "1  [es, en, en, en, en, en, en, en, en, en, en, e...   \n",
       "2  [en, en, en, en, en, en, en, en, en, en, en, e...   \n",
       "3  [en, de, es, de, de, en, fr, en, es, en, en, p...   \n",
       "4  [en, de, en, nl, de, de, en, de, en, en, de, d...   \n",
       "5  [en, en, en, en, en, en, en, en, en, en, en, e...   \n",
       "6  [en, en, en, en, en, es, en, en, en, en, es, e...   \n",
       "7  [de, pt, en, es, en, fr, de, en, en, en, en, d...   \n",
       "8  [es, en, de, en, en, en, en, es, fr, fr, es, e...   \n",
       "9  [de, fr, en, en, de, es, de, en, de, de, de, e...   \n",
       "\n",
       "                                        localization  n_brand_names  \\\n",
       "0  {'de': nan, 'it': nan, 'fr': nan, 'en': nan, '...             67   \n",
       "1                   {'es': 'Disney', 'en': 'Disney'}              2   \n",
       "2                                    {'en': 'VEVOR'}              1   \n",
       "3  {'en': 'Bosch', 'de': 'Bosch', 'es': 'Bosch', ...              2   \n",
       "4  {'en': 'Calvin Klein', 'de': 'Calvin Klein', '...              4   \n",
       "5                                   {'en': 'Sanrio'}              2   \n",
       "6   {'en': 'XIAOMI', 'es': 'XIAOMI', 'fr': 'XIAOMI'}              2   \n",
       "7  {'de': 'Philips', 'pt': 'Philips', 'en': 'Phil...              3   \n",
       "8  {'es': 'Samsung', 'en': 'Samsung', 'de': 'Sams...              2   \n",
       "9  {'de': 'Adidas', 'fr': 'adidas', 'en': 'adidas...              3   \n",
       "\n",
       "   total_weight  n_languages  n_categories  \n",
       "0   1043.086962           10          1155  \n",
       "1     23.282313            2            58  \n",
       "2     14.008752            1            43  \n",
       "3     15.920517            6            31  \n",
       "4     13.444201            5            26  \n",
       "5     10.722983            1            26  \n",
       "6     13.090949            3            25  \n",
       "7     12.324644            5            23  \n",
       "8     12.186709            4            22  \n",
       "9     17.796716            7            22  "
      ]
     },
     "execution_count": 29,
     "metadata": {},
     "output_type": "execute_result"
    }
   ],
   "source": [
    "groups = (\n",
    "    df.groupby(\"brand_cluster\", as_index=False)\n",
    "      .agg(\n",
    "          row_ids=(\"row_id\", list),\n",
    "          brand_names=(\"brand_name\", list),\n",
    "          categories=(\"google_category_id\", list),\n",
    "          row_weights=(\"row_weight\", list),\n",
    "          languages=(\"language_code\", list),\n",
    "      )\n",
    "      # Rename brand_cluster to slug for consistency\n",
    "      .rename(columns={\"brand_cluster\": \"slug\"})\n",
    "      .assign(\n",
    "          # Create a dict mapping each language to the corresponding brand name\n",
    "          localization=lambda x: x[[\"languages\", \"brand_names\"]].apply(\n",
    "              lambda row: dict(zip(*row)), axis=1\n",
    "          ),\n",
    "          n_brand_names=lambda x: x[\"brand_names\"].apply(lambda l: len(set(l))),\n",
    "          total_weight=lambda x: x[\"row_weights\"].apply(sum),\n",
    "          n_languages=lambda x: x[\"languages\"].apply(lambda l: len(set(l))),\n",
    "          n_categories=lambda x: x[\"categories\"].apply(lambda l: len(set(l))),\n",
    "      )\n",
    "      .sort_values(by=\"n_categories\", ascending=False)\n",
    "      .reset_index(drop=True)\n",
    "      .reset_index()                        # Make a fresh numeric index\n",
    "      .rename(columns={\"index\": \"group_id\"}) # Call that index \"group_id\"\n",
    "      .assign(group_id=lambda x: x[\"group_id\"] - 1)\n",
    ")\n",
    "\n",
    "desired_cols = [\n",
    "    \"group_id\", \"slug\", \"row_ids\", \"brand_names\", \"categories\", \n",
    "    \"row_weights\", \"languages\", \"localization\", \n",
    "    \"n_brand_names\", \"total_weight\", \"n_languages\", \"n_categories\"\n",
    "]\n",
    "groups = groups[desired_cols]\n",
    "\n",
    "groups.head(10)\n"
   ]
  },
  {
   "cell_type": "code",
   "execution_count": 30,
   "metadata": {},
   "outputs": [],
   "source": [
    "filtered_brands_custom = filter_brands(\n",
    "    df_software,\n",
    "    'clean_brand_name',\n",
    "    threshold=0,\n",
    "    score_func=weighted_score,  \n",
    "    brand_weight=2.0,  \n",
    "    common_weight=1.0\n",
    ")"
   ]
  },
  {
   "cell_type": "code",
   "execution_count": 31,
   "metadata": {},
   "outputs": [
    {
     "name": "stdout",
     "output_type": "stream",
     "text": [
      "Brand pairs with Weighted score above threshold:\n",
      "university games and outright games: 50%\n",
      "university games and rockstar games: 40%\n",
      "university games and ci games: 40%\n",
      "university games and maximum games: 50%\n",
      "university games and 505 games: 40%\n",
      "university games and telltale games: 50%\n",
      "university games and skybound games: 40%\n",
      "university games and nordic games: 50%\n",
      "university games and 2k games: 40%\n",
      "university games and merge games: 50%\n",
      "university games and epic games: 50%\n",
      "outright games and rockstar games: 40%\n",
      "outright games and ci games: 40%\n",
      "outright games and maximum games: 50%\n",
      "outright games and 505 games: 40%\n",
      "outright games and telltale games: 50%\n",
      "outright games and skybound games: 40%\n",
      "outright games and nordic games: 50%\n",
      "outright games and 2k games: 40%\n",
      "outright games and merge games: 50%\n",
      "outright games and epic games: 50%\n",
      "bethesda softworks and bethesda: 33%\n",
      "nintendo and nintendo switch: 66%\n",
      "rockstar games and ci games: 33%\n",
      "rockstar games and maximum games: 40%\n",
      "rockstar games and 505 games: 33%\n",
      "rockstar games and telltale games: 40%\n",
      "rockstar games and skybound games: 33%\n",
      "rockstar games and nordic games: 40%\n",
      "rockstar games and 2k games: 33%\n",
      "rockstar games and merge games: 40%\n",
      "rockstar games and epic games: 40%\n",
      "ci games and maximum games: 40%\n",
      "ci games and 505 games: 33%\n",
      "ci games and telltale games: 40%\n",
      "ci games and skybound games: 33%\n",
      "ci games and nordic games: 40%\n",
      "ci games and 2k games: 33%\n",
      "ci games and merge games: 40%\n",
      "ci games and epic games: 40%\n",
      "ea sports and ea: 50%\n",
      "bandai namco and bandai: 50%\n",
      "bandai namco and namco: 50%\n",
      "maximum games and 505 games: 40%\n",
      "maximum games and telltale games: 50%\n",
      "maximum games and skybound games: 40%\n",
      "maximum games and nordic games: 50%\n",
      "maximum games and 2k games: 40%\n",
      "maximum games and merge games: 50%\n",
      "maximum games and epic games: 50%\n",
      "505 games and telltale games: 40%\n",
      "505 games and skybound games: 33%\n",
      "505 games and nordic games: 40%\n",
      "505 games and 2k games: 33%\n",
      "505 games and merge games: 40%\n",
      "505 games and epic games: 40%\n",
      "2k and 2k games: 50%\n",
      "telltale games and skybound games: 40%\n",
      "telltale games and nordic games: 50%\n",
      "telltale games and 2k games: 40%\n",
      "telltale games and merge games: 50%\n",
      "telltale games and epic games: 50%\n",
      "skybound games and nordic games: 40%\n",
      "skybound games and 2k games: 33%\n",
      "skybound games and merge games: 40%\n",
      "skybound games and epic games: 40%\n",
      "nordic games and 2k games: 40%\n",
      "nordic games and merge games: 50%\n",
      "nordic games and epic games: 50%\n",
      "2k games and merge games: 40%\n",
      "2k games and epic games: 40%\n",
      "merge games and epic games: 50%\n"
     ]
    }
   ],
   "source": [
    "print(\"Brand pairs with Weighted score above threshold:\")\n",
    "for b1, b2, score in filtered_brands_custom:\n",
    "    print(f\"{b1} and {b2}: {score}%\")"
   ]
  },
  {
   "cell_type": "code",
   "execution_count": 42,
   "metadata": {},
   "outputs": [
    {
     "data": {
      "application/vnd.plotly.v1+json": {
       "config": {
        "plotlyServerURL": "https://plot.ly"
       },
       "data": [
        {
         "hoverinfo": "text",
         "marker": {
          "color": [
           "rgb(31,119,180)",
           "rgb(31,119,180)",
           "rgb(255,127,14)",
           "rgb(255,127,14)",
           "rgb(44,160,44)",
           "rgb(44,160,44)",
           "rgb(214,39,40)",
           "rgb(214,39,40)",
           "rgb(148,103,189)",
           "rgb(148,103,189)",
           "rgb(140,86,75)",
           "rgb(140,86,75)",
           "rgb(227,119,194)",
           "rgb(227,119,194)",
           "rgb(127,127,127)",
           "rgb(127,127,127)",
           "rgb(127,127,127)",
           "rgb(188,189,34)",
           "rgb(188,189,34)",
           "rgb(23,190,207)",
           "rgb(23,190,207)",
           "rgb(23,190,207)"
          ],
          "line": {
           "width": 2
          },
          "size": 15
         },
         "mode": "markers+text",
         "text": [
          "university games",
          "outright games",
          "rockstar games",
          "ci games",
          "maximum games",
          "505 games",
          "telltale games",
          "skybound games",
          "nordic games",
          "2k games",
          "merge games",
          "epic games",
          "bethesda softworks",
          "bethesda",
          "nintendo",
          "nintendo switch",
          "ea sports",
          "ea",
          "bandai namco",
          "bandai",
          "namco",
          "2k"
         ],
         "textposition": "top center",
         "type": "scatter",
         "x": [
          0.14254892113298023,
          0.9669370288415742,
          -0.5075005152091606,
          -0.9152350769868254,
          0.6890257812683604,
          -0.6278660841268253,
          0.9646968311651939,
          -0.8592070972327447,
          -0.08777347091334625,
          0.06317486346214271,
          0.35417576761409464,
          -0.6523004914053018,
          0.4363796937986625,
          -0.9199715534606612,
          0.6707553083547567,
          0.6572609989227848,
          -0.3181792640881802,
          0.9560775624249859,
          -0.21312423161781605,
          0.9685429438912483,
          -0.9375845702866382,
          -0.8308333455492849
         ],
         "y": [
          1,
          0.21015742155643627,
          -0.8830127985843843,
          0.3498621244616264,
          0.6735728952312383,
          0.8618379070115717,
          -0.4246853557096767,
          -0.47680121446329976,
          0.8474892624250379,
          -0.9362533457606563,
          -0.9519739852553846,
          -0.6606979907122469,
          0.8500550959166543,
          0.07664910905912899,
          -0.6950253773124024,
          -0.6726210159225583,
          0.9795413880446799,
          0.5276390281459267,
          -0.9983743371179745,
          -0.09912681668952138,
          -0.19973137104976604,
          0.6214993767255714
         ]
        },
        {
         "hoverinfo": "none",
         "line": {
          "color": "red",
          "width": 2.2
         },
         "mode": "lines",
         "type": "scatter",
         "x": [
          0.6707553083547567,
          0.6572609989227848,
          null
         ],
         "y": [
          -0.6950253773124024,
          -0.6726210159225583,
          null
         ]
        }
       ],
       "layout": {
        "hovermode": "closest",
        "paper_bgcolor": "white",
        "plot_bgcolor": "white",
        "showlegend": false,
        "template": {
         "data": {
          "bar": [
           {
            "error_x": {
             "color": "#2a3f5f"
            },
            "error_y": {
             "color": "#2a3f5f"
            },
            "marker": {
             "line": {
              "color": "#E5ECF6",
              "width": 0.5
             },
             "pattern": {
              "fillmode": "overlay",
              "size": 10,
              "solidity": 0.2
             }
            },
            "type": "bar"
           }
          ],
          "barpolar": [
           {
            "marker": {
             "line": {
              "color": "#E5ECF6",
              "width": 0.5
             },
             "pattern": {
              "fillmode": "overlay",
              "size": 10,
              "solidity": 0.2
             }
            },
            "type": "barpolar"
           }
          ],
          "carpet": [
           {
            "aaxis": {
             "endlinecolor": "#2a3f5f",
             "gridcolor": "white",
             "linecolor": "white",
             "minorgridcolor": "white",
             "startlinecolor": "#2a3f5f"
            },
            "baxis": {
             "endlinecolor": "#2a3f5f",
             "gridcolor": "white",
             "linecolor": "white",
             "minorgridcolor": "white",
             "startlinecolor": "#2a3f5f"
            },
            "type": "carpet"
           }
          ],
          "choropleth": [
           {
            "colorbar": {
             "outlinewidth": 0,
             "ticks": ""
            },
            "type": "choropleth"
           }
          ],
          "contour": [
           {
            "colorbar": {
             "outlinewidth": 0,
             "ticks": ""
            },
            "colorscale": [
             [
              0,
              "#0d0887"
             ],
             [
              0.1111111111111111,
              "#46039f"
             ],
             [
              0.2222222222222222,
              "#7201a8"
             ],
             [
              0.3333333333333333,
              "#9c179e"
             ],
             [
              0.4444444444444444,
              "#bd3786"
             ],
             [
              0.5555555555555556,
              "#d8576b"
             ],
             [
              0.6666666666666666,
              "#ed7953"
             ],
             [
              0.7777777777777778,
              "#fb9f3a"
             ],
             [
              0.8888888888888888,
              "#fdca26"
             ],
             [
              1,
              "#f0f921"
             ]
            ],
            "type": "contour"
           }
          ],
          "contourcarpet": [
           {
            "colorbar": {
             "outlinewidth": 0,
             "ticks": ""
            },
            "type": "contourcarpet"
           }
          ],
          "heatmap": [
           {
            "colorbar": {
             "outlinewidth": 0,
             "ticks": ""
            },
            "colorscale": [
             [
              0,
              "#0d0887"
             ],
             [
              0.1111111111111111,
              "#46039f"
             ],
             [
              0.2222222222222222,
              "#7201a8"
             ],
             [
              0.3333333333333333,
              "#9c179e"
             ],
             [
              0.4444444444444444,
              "#bd3786"
             ],
             [
              0.5555555555555556,
              "#d8576b"
             ],
             [
              0.6666666666666666,
              "#ed7953"
             ],
             [
              0.7777777777777778,
              "#fb9f3a"
             ],
             [
              0.8888888888888888,
              "#fdca26"
             ],
             [
              1,
              "#f0f921"
             ]
            ],
            "type": "heatmap"
           }
          ],
          "heatmapgl": [
           {
            "colorbar": {
             "outlinewidth": 0,
             "ticks": ""
            },
            "colorscale": [
             [
              0,
              "#0d0887"
             ],
             [
              0.1111111111111111,
              "#46039f"
             ],
             [
              0.2222222222222222,
              "#7201a8"
             ],
             [
              0.3333333333333333,
              "#9c179e"
             ],
             [
              0.4444444444444444,
              "#bd3786"
             ],
             [
              0.5555555555555556,
              "#d8576b"
             ],
             [
              0.6666666666666666,
              "#ed7953"
             ],
             [
              0.7777777777777778,
              "#fb9f3a"
             ],
             [
              0.8888888888888888,
              "#fdca26"
             ],
             [
              1,
              "#f0f921"
             ]
            ],
            "type": "heatmapgl"
           }
          ],
          "histogram": [
           {
            "marker": {
             "pattern": {
              "fillmode": "overlay",
              "size": 10,
              "solidity": 0.2
             }
            },
            "type": "histogram"
           }
          ],
          "histogram2d": [
           {
            "colorbar": {
             "outlinewidth": 0,
             "ticks": ""
            },
            "colorscale": [
             [
              0,
              "#0d0887"
             ],
             [
              0.1111111111111111,
              "#46039f"
             ],
             [
              0.2222222222222222,
              "#7201a8"
             ],
             [
              0.3333333333333333,
              "#9c179e"
             ],
             [
              0.4444444444444444,
              "#bd3786"
             ],
             [
              0.5555555555555556,
              "#d8576b"
             ],
             [
              0.6666666666666666,
              "#ed7953"
             ],
             [
              0.7777777777777778,
              "#fb9f3a"
             ],
             [
              0.8888888888888888,
              "#fdca26"
             ],
             [
              1,
              "#f0f921"
             ]
            ],
            "type": "histogram2d"
           }
          ],
          "histogram2dcontour": [
           {
            "colorbar": {
             "outlinewidth": 0,
             "ticks": ""
            },
            "colorscale": [
             [
              0,
              "#0d0887"
             ],
             [
              0.1111111111111111,
              "#46039f"
             ],
             [
              0.2222222222222222,
              "#7201a8"
             ],
             [
              0.3333333333333333,
              "#9c179e"
             ],
             [
              0.4444444444444444,
              "#bd3786"
             ],
             [
              0.5555555555555556,
              "#d8576b"
             ],
             [
              0.6666666666666666,
              "#ed7953"
             ],
             [
              0.7777777777777778,
              "#fb9f3a"
             ],
             [
              0.8888888888888888,
              "#fdca26"
             ],
             [
              1,
              "#f0f921"
             ]
            ],
            "type": "histogram2dcontour"
           }
          ],
          "mesh3d": [
           {
            "colorbar": {
             "outlinewidth": 0,
             "ticks": ""
            },
            "type": "mesh3d"
           }
          ],
          "parcoords": [
           {
            "line": {
             "colorbar": {
              "outlinewidth": 0,
              "ticks": ""
             }
            },
            "type": "parcoords"
           }
          ],
          "pie": [
           {
            "automargin": true,
            "type": "pie"
           }
          ],
          "scatter": [
           {
            "fillpattern": {
             "fillmode": "overlay",
             "size": 10,
             "solidity": 0.2
            },
            "type": "scatter"
           }
          ],
          "scatter3d": [
           {
            "line": {
             "colorbar": {
              "outlinewidth": 0,
              "ticks": ""
             }
            },
            "marker": {
             "colorbar": {
              "outlinewidth": 0,
              "ticks": ""
             }
            },
            "type": "scatter3d"
           }
          ],
          "scattercarpet": [
           {
            "marker": {
             "colorbar": {
              "outlinewidth": 0,
              "ticks": ""
             }
            },
            "type": "scattercarpet"
           }
          ],
          "scattergeo": [
           {
            "marker": {
             "colorbar": {
              "outlinewidth": 0,
              "ticks": ""
             }
            },
            "type": "scattergeo"
           }
          ],
          "scattergl": [
           {
            "marker": {
             "colorbar": {
              "outlinewidth": 0,
              "ticks": ""
             }
            },
            "type": "scattergl"
           }
          ],
          "scattermapbox": [
           {
            "marker": {
             "colorbar": {
              "outlinewidth": 0,
              "ticks": ""
             }
            },
            "type": "scattermapbox"
           }
          ],
          "scatterpolar": [
           {
            "marker": {
             "colorbar": {
              "outlinewidth": 0,
              "ticks": ""
             }
            },
            "type": "scatterpolar"
           }
          ],
          "scatterpolargl": [
           {
            "marker": {
             "colorbar": {
              "outlinewidth": 0,
              "ticks": ""
             }
            },
            "type": "scatterpolargl"
           }
          ],
          "scatterternary": [
           {
            "marker": {
             "colorbar": {
              "outlinewidth": 0,
              "ticks": ""
             }
            },
            "type": "scatterternary"
           }
          ],
          "surface": [
           {
            "colorbar": {
             "outlinewidth": 0,
             "ticks": ""
            },
            "colorscale": [
             [
              0,
              "#0d0887"
             ],
             [
              0.1111111111111111,
              "#46039f"
             ],
             [
              0.2222222222222222,
              "#7201a8"
             ],
             [
              0.3333333333333333,
              "#9c179e"
             ],
             [
              0.4444444444444444,
              "#bd3786"
             ],
             [
              0.5555555555555556,
              "#d8576b"
             ],
             [
              0.6666666666666666,
              "#ed7953"
             ],
             [
              0.7777777777777778,
              "#fb9f3a"
             ],
             [
              0.8888888888888888,
              "#fdca26"
             ],
             [
              1,
              "#f0f921"
             ]
            ],
            "type": "surface"
           }
          ],
          "table": [
           {
            "cells": {
             "fill": {
              "color": "#EBF0F8"
             },
             "line": {
              "color": "white"
             }
            },
            "header": {
             "fill": {
              "color": "#C8D4E3"
             },
             "line": {
              "color": "white"
             }
            },
            "type": "table"
           }
          ]
         },
         "layout": {
          "annotationdefaults": {
           "arrowcolor": "#2a3f5f",
           "arrowhead": 0,
           "arrowwidth": 1
          },
          "autotypenumbers": "strict",
          "coloraxis": {
           "colorbar": {
            "outlinewidth": 0,
            "ticks": ""
           }
          },
          "colorscale": {
           "diverging": [
            [
             0,
             "#8e0152"
            ],
            [
             0.1,
             "#c51b7d"
            ],
            [
             0.2,
             "#de77ae"
            ],
            [
             0.3,
             "#f1b6da"
            ],
            [
             0.4,
             "#fde0ef"
            ],
            [
             0.5,
             "#f7f7f7"
            ],
            [
             0.6,
             "#e6f5d0"
            ],
            [
             0.7,
             "#b8e186"
            ],
            [
             0.8,
             "#7fbc41"
            ],
            [
             0.9,
             "#4d9221"
            ],
            [
             1,
             "#276419"
            ]
           ],
           "sequential": [
            [
             0,
             "#0d0887"
            ],
            [
             0.1111111111111111,
             "#46039f"
            ],
            [
             0.2222222222222222,
             "#7201a8"
            ],
            [
             0.3333333333333333,
             "#9c179e"
            ],
            [
             0.4444444444444444,
             "#bd3786"
            ],
            [
             0.5555555555555556,
             "#d8576b"
            ],
            [
             0.6666666666666666,
             "#ed7953"
            ],
            [
             0.7777777777777778,
             "#fb9f3a"
            ],
            [
             0.8888888888888888,
             "#fdca26"
            ],
            [
             1,
             "#f0f921"
            ]
           ],
           "sequentialminus": [
            [
             0,
             "#0d0887"
            ],
            [
             0.1111111111111111,
             "#46039f"
            ],
            [
             0.2222222222222222,
             "#7201a8"
            ],
            [
             0.3333333333333333,
             "#9c179e"
            ],
            [
             0.4444444444444444,
             "#bd3786"
            ],
            [
             0.5555555555555556,
             "#d8576b"
            ],
            [
             0.6666666666666666,
             "#ed7953"
            ],
            [
             0.7777777777777778,
             "#fb9f3a"
            ],
            [
             0.8888888888888888,
             "#fdca26"
            ],
            [
             1,
             "#f0f921"
            ]
           ]
          },
          "colorway": [
           "#636efa",
           "#EF553B",
           "#00cc96",
           "#ab63fa",
           "#FFA15A",
           "#19d3f3",
           "#FF6692",
           "#B6E880",
           "#FF97FF",
           "#FECB52"
          ],
          "font": {
           "color": "#2a3f5f"
          },
          "geo": {
           "bgcolor": "white",
           "lakecolor": "white",
           "landcolor": "#E5ECF6",
           "showlakes": true,
           "showland": true,
           "subunitcolor": "white"
          },
          "hoverlabel": {
           "align": "left"
          },
          "hovermode": "closest",
          "mapbox": {
           "style": "light"
          },
          "paper_bgcolor": "white",
          "plot_bgcolor": "#E5ECF6",
          "polar": {
           "angularaxis": {
            "gridcolor": "white",
            "linecolor": "white",
            "ticks": ""
           },
           "bgcolor": "#E5ECF6",
           "radialaxis": {
            "gridcolor": "white",
            "linecolor": "white",
            "ticks": ""
           }
          },
          "scene": {
           "xaxis": {
            "backgroundcolor": "#E5ECF6",
            "gridcolor": "white",
            "gridwidth": 2,
            "linecolor": "white",
            "showbackground": true,
            "ticks": "",
            "zerolinecolor": "white"
           },
           "yaxis": {
            "backgroundcolor": "#E5ECF6",
            "gridcolor": "white",
            "gridwidth": 2,
            "linecolor": "white",
            "showbackground": true,
            "ticks": "",
            "zerolinecolor": "white"
           },
           "zaxis": {
            "backgroundcolor": "#E5ECF6",
            "gridcolor": "white",
            "gridwidth": 2,
            "linecolor": "white",
            "showbackground": true,
            "ticks": "",
            "zerolinecolor": "white"
           }
          },
          "shapedefaults": {
           "line": {
            "color": "#2a3f5f"
           }
          },
          "ternary": {
           "aaxis": {
            "gridcolor": "white",
            "linecolor": "white",
            "ticks": ""
           },
           "baxis": {
            "gridcolor": "white",
            "linecolor": "white",
            "ticks": ""
           },
           "bgcolor": "#E5ECF6",
           "caxis": {
            "gridcolor": "white",
            "linecolor": "white",
            "ticks": ""
           }
          },
          "title": {
           "x": 0.05
          },
          "xaxis": {
           "automargin": true,
           "gridcolor": "white",
           "linecolor": "white",
           "ticks": "",
           "title": {
            "standoff": 15
           },
           "zerolinecolor": "white",
           "zerolinewidth": 2
          },
          "yaxis": {
           "automargin": true,
           "gridcolor": "white",
           "linecolor": "white",
           "ticks": "",
           "title": {
            "standoff": 15
           },
           "zerolinecolor": "white",
           "zerolinewidth": 2
          }
         }
        },
        "title": {
         "text": "Brand Similarity Network (Connected Brands)"
        },
        "xaxis": {
         "showgrid": false,
         "showticklabels": false,
         "zeroline": false
        },
        "yaxis": {
         "showgrid": false,
         "showticklabels": false,
         "zeroline": false
        }
       }
      }
     },
     "metadata": {},
     "output_type": "display_data"
    }
   ],
   "source": [
    "import plotly.graph_objects as go\n",
    "import networkx as nx\n",
    "import matplotlib.pyplot as plt\n",
    "\n",
    "# Create the network graph\n",
    "G = nx.Graph()\n",
    "\n",
    "# Assuming ⁠ filtered_for_graph ⁠ contains tuples (brand1, brand2, score)\n",
    "# Add all nodes first\n",
    "for brand1, brand2, score in filtered_brands_custom:\n",
    "    G.add_node(brand1)\n",
    "    G.add_node(brand2)\n",
    "\n",
    "    # Only add edges with score > 50%\n",
    "    if score > 50:\n",
    "        G.add_edge(brand1, brand2, weight=score)\n",
    "\n",
    "# Find connected components (each group of linked brands)\n",
    "connected_components = list(nx.connected_components(G))\n",
    "\n",
    "# Generate a color for each connected component\n",
    "num_components = len(connected_components)\n",
    "color_map = plt.cm.get_cmap('tab10', num_components)  # Use a color palette\n",
    "\n",
    "# Assign colors to nodes based on their component\n",
    "node_colors = {}\n",
    "for i, component in enumerate(connected_components):\n",
    "    color = color_map(i)[:3]  # Get RGB values\n",
    "    color = f'rgb({int(color[0]*255)},{int(color[1]*255)},{int(color[2]*255)})'  # Convert to Plotly format\n",
    "    for node in component:\n",
    "        node_colors[node] = color\n",
    "\n",
    "# Layout (positioning of nodes)\n",
    "pos = nx.spring_layout(G, k=0.3, iterations=50, seed=42)\n",
    "\n",
    "# Edge traces\n",
    "edge_traces = []\n",
    "for u, v, weight in G.edges(data='weight'):\n",
    "    edge_width = weight / 30  # Adjust scaling as needed\n",
    "    edge_traces.append(\n",
    "        go.Scatter(\n",
    "            x=[pos[u][0], pos[v][0], None],\n",
    "            y=[pos[u][1], pos[v][1], None],\n",
    "            mode='lines',\n",
    "            line=dict(width=edge_width, color='red'),\n",
    "            hoverinfo='none'\n",
    "        )\n",
    "    )\n",
    "\n",
    "# Node trace (each connected group has a unique color)\n",
    "node_trace = go.Scatter(\n",
    "    x=[pos[node][0] for node in G.nodes()],\n",
    "    y=[pos[node][1] for node in G.nodes()],\n",
    "    mode='markers+text',\n",
    "    marker=dict(\n",
    "        size=15,\n",
    "        color=[node_colors[node] for node in G.nodes()],  # Assign colors per component\n",
    "        line_width=2\n",
    "    ),\n",
    "    text=[node for node in G.nodes()],\n",
    "    textposition='top center',\n",
    "    hoverinfo='text'\n",
    ")\n",
    "\n",
    "# Create the Plotly figure\n",
    "fig = go.Figure(data=[node_trace] + edge_traces,\n",
    "                layout=go.Layout(\n",
    "                    title='Brand Similarity Network (Connected Brands)',\n",
    "                    showlegend=False,\n",
    "                    hovermode='closest',\n",
    "                    xaxis=dict(showgrid=False, zeroline=False, showticklabels=False),\n",
    "                    yaxis=dict(showgrid=False, zeroline=False, showticklabels=False),\n",
    "                    plot_bgcolor='white',\n",
    "                    paper_bgcolor='white'\n",
    "                ))\n",
    "\n",
    "fig.show()"
   ]
  },
  {
   "cell_type": "code",
   "execution_count": 33,
   "metadata": {},
   "outputs": [
    {
     "data": {
      "text/plain": [
       "(5720, 12)"
      ]
     },
     "execution_count": 33,
     "metadata": {},
     "output_type": "execute_result"
    }
   ],
   "source": [
    "groups.shape"
   ]
  },
  {
   "cell_type": "code",
   "execution_count": 34,
   "metadata": {},
   "outputs": [],
   "source": [
    "groups.to_csv(\"final_groups.csv\")"
   ]
  }
 ],
 "metadata": {
  "kernelspec": {
   "display_name": "base",
   "language": "python",
   "name": "python3"
  },
  "language_info": {
   "codemirror_mode": {
    "name": "ipython",
    "version": 3
   },
   "file_extension": ".py",
   "mimetype": "text/x-python",
   "name": "python",
   "nbconvert_exporter": "python",
   "pygments_lexer": "ipython3",
   "version": "3.8.20"
  }
 },
 "nbformat": 4,
 "nbformat_minor": 2
}
